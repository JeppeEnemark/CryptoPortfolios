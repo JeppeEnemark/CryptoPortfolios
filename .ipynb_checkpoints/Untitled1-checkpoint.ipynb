{
 "cells": [
  {
   "cell_type": "code",
   "execution_count": 8,
   "metadata": {},
   "outputs": [],
   "source": [
    "import numpy as np\n",
    "import pandas as pd\n",
    "import matplotlib.pyplot as plt\n",
    "import random\n",
    "\n",
    "# loading data, subsetting to the relevant cloumns and pivoting the table\n",
    "df = pd.read_csv(\"crypto-markets.csv\", parse_dates = [\"date\"], index_col = 3)\n",
    "df = df[['name', 'close']]\n",
    "df = df['2017-01-01':]\n",
    "df = df.pivot_table(index = df.index, columns = 'name', values = 'close')\n",
    "\n",
    "# Log changing the data frame\n",
    "log_ret = np.log(df / df.shift(1))\n",
    "log_re = log_ret.dropna(axis = 0, how = \"all\").dropna(axis = 1, how = \"all\")"
   ]
  },
  {
   "cell_type": "code",
   "execution_count": 9,
   "metadata": {},
   "outputs": [
    {
     "name": "stdout",
     "output_type": "stream",
     "text": [
      "<class 'pandas.core.frame.DataFrame'>\n",
      "DatetimeIndex: 699 entries, 2017-01-01 to 2018-11-30\n",
      "Columns: 2071 entries, 0chain to wys Token\n",
      "dtypes: float64(2071)\n",
      "memory usage: 11.0 MB\n"
     ]
    }
   ],
   "source": [
    "log_ret.info()"
   ]
  },
  {
   "cell_type": "code",
   "execution_count": 10,
   "metadata": {},
   "outputs": [],
   "source": [
    "names = df.columns"
   ]
  },
  {
   "cell_type": "code",
   "execution_count": 89,
   "metadata": {},
   "outputs": [],
   "source": [
    "portfolio_size = []\n",
    "volatility = np.array([])\n",
    "for i in range(10):\n",
    "    # Size of portfolio\n",
    "    size = random.randint(1,2071)\n",
    "    portfolio_size.append(size)\n",
    "    # Select random criptos\n",
    "    cryptos = random.choices(names, k = size)\n",
    "    num_ports = 10\n",
    "    all_weights = np.zeros((num_ports, len(cryptos)))\n",
    "    ret_arr = np.zeros(num_ports)\n",
    "    vol_arr = np.zeros(num_ports)\n",
    "    sharpe_arr = np.zeros(num_ports)\n",
    "\n",
    "    for x in range(num_ports):\n",
    "        # Weights\n",
    "        weights = np.array(np.random.random(len(cryptos)))\n",
    "        weights = weights/np.sum(weights)\n",
    "        # Save weights\n",
    "        all_weights[x,:] = weights\n",
    "        # Expected return\n",
    "        ret_arr[x] = np.sum( (df[cryptos].mean() * weights * 252))\n",
    "        # Expected volatility\n",
    "        vol_arr[x] = np.sqrt(np.dot(weights.T, np.dot(df[cryptos].cov()*252, weights)))\n",
    "        volatility = np.append(volatility, vol_arr[x])"
   ]
  },
  {
   "cell_type": "code",
   "execution_count": 93,
   "metadata": {},
   "outputs": [
    {
     "name": "stdout",
     "output_type": "stream",
     "text": [
      "[332, 1978, 1983, 1067, 1198, 1927, 1364, 1371, 944, 821]\n",
      "[ 5936.65823287  9282.82000873  3605.69769724 17653.07210846\n",
      " 10463.61962478 13613.15507284 12570.58822841  7840.03792859\n",
      " 10813.19237453 13151.68970443    79.59038396    99.27964454\n",
      "    79.58153108    74.04645019    71.57229227    76.28997876\n",
      "    68.56544007   114.99561801   117.4064037    106.29159558\n",
      "  3651.4466957   6099.20057413  6469.51591737  7010.22288508\n",
      "  7229.81382809  6417.42981809  6235.70404589  5903.52026149\n",
      "  5417.64305844  6479.96295429  6197.31970335  3153.55552241\n",
      "  3274.39253373  3263.1274537   1855.94830341   751.08654209\n",
      "  1273.25038207  5506.67367473  2440.16322618  5954.75014589\n",
      "  9838.59137924 11105.23994458  6820.46076117 10263.5500506\n",
      " 16966.75519434  8445.65080129 14885.2185152  15075.906508\n",
      " 14737.02232957 16991.20419074   394.61298906   321.0574687\n",
      "   452.8687407    424.26743975   420.74949007   405.07213237\n",
      "   398.09243495   321.23338747   269.46741232   301.93306028\n",
      "  1635.67197615  4465.52486882  4509.62555198  3801.9116704\n",
      "  3801.72992204  5275.79183961  4787.2050359    540.25132877\n",
      "  4939.24197941  1032.39660145   104.35502301   150.49483642\n",
      "   142.87214786   149.3017554    134.32440241   137.85863309\n",
      "   232.05057662   177.02694337   200.33619774   185.2390233\n",
      "   962.11840699   695.91743829   969.54071632   860.38747844\n",
      "   616.49250812   757.56925124   691.52340836   703.69863545\n",
      "   329.03684982   515.82106857  4651.43648274  5696.63919671\n",
      "  3415.66163553  2472.26942562  9004.68893714  6135.0862264\n",
      " 11519.99421396  9684.21831472 11566.28376587  7464.50059479]\n"
     ]
    }
   ],
   "source": [
    "print(portfolio_size)\n",
    "print(volatility)"
   ]
  },
  {
   "cell_type": "code",
   "execution_count": 88,
   "metadata": {},
   "outputs": [
    {
     "data": {
      "text/plain": [
       "array([1, 2, 3, 4, 5, 6])"
      ]
     },
     "execution_count": 88,
     "metadata": {},
     "output_type": "execute_result"
    }
   ],
   "source": [
    "a= np.array([1,2,3])\n",
    "b = np.array([4,5,6])\n",
    "\n",
    "np.append(a,b)"
   ]
  },
  {
   "cell_type": "markdown",
   "metadata": {},
   "source": [
    "\n",
    "<center> Heading 1 </center>"
   ]
  }
 ],
 "metadata": {
  "kernelspec": {
   "display_name": "Python 3",
   "language": "python",
   "name": "python3"
  },
  "language_info": {
   "codemirror_mode": {
    "name": "ipython",
    "version": 3
   },
   "file_extension": ".py",
   "mimetype": "text/x-python",
   "name": "python",
   "nbconvert_exporter": "python",
   "pygments_lexer": "ipython3",
   "version": "3.7.4"
  },
  "toc": {
   "base_numbering": 1,
   "nav_menu": {},
   "number_sections": true,
   "sideBar": true,
   "skip_h1_title": false,
   "title_cell": "Table of Contents",
   "title_sidebar": "Contents",
   "toc_cell": false,
   "toc_position": {},
   "toc_section_display": true,
   "toc_window_display": false
  }
 },
 "nbformat": 4,
 "nbformat_minor": 2
}
