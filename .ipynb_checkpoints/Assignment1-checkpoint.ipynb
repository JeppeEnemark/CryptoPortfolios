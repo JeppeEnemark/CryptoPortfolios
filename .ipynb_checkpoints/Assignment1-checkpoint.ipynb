{
 "cells": [
  {
   "cell_type": "markdown",
   "metadata": {},
   "source": [
    "# Assignment 1: Group 7\n",
    "\n",
    "<br>\n",
    "\n",
    "## Part 1\n",
    " \n",
    "For this part there needs to be some data manipulation done before calculation can proceed. As it says in the assignment, first the data points from before 1.jan 2017 will be discarded, but also those columns and rows that are have all NaN values. Secondly, the date will be set as the index and pandas pivot_table function will be used to get the names of the cryptos as the headers, populated with the values from the close column, since that is the only one required for the calculations in this part. To make things easier on our system, this data frame will be exported to a csv file in a log-transformed state. "
   ]
  },
  {
   "cell_type": "code",
   "execution_count": 37,
   "metadata": {},
   "outputs": [],
   "source": [
    "import numpy as np\n",
    "import pandas as pd\n",
    "import matplotlib.pyplot as plt\n",
    "import mpld3 # if you dont have this installed, please comment this line out\n",
    "import random\n",
    "import plotly.express as px\n",
    "from itertools import product\n",
    "\n",
    "mpld3.enable_notebook() # if you dont have mpld3 installed, please comment this line out\n",
    "%matplotlib inline\n",
    "plt.style.use('fivethirtyeight')\n",
    "# importing the data\n",
    "df = pd.read_csv(\"crypto-markets.csv\", parse_dates = [\"date\"], index_col = 3)\n",
    "# subsetting the data frame\n",
    "df = df[['name', 'close']]\n",
    "df = df['2017-01-01':]\n",
    "# manipulating the data frame to get the log return data and pivoting the data frame\n",
    "df = df.pivot_table(index = df.index, columns = 'name', values = 'close')\n",
    "log_ret = np.log(df/df.shift(1))\n",
    "log_ret = log_ret.dropna(axis = 1, how = 'all').dropna(axis = 0, how = 'all')\n",
    "# exporting to a csv - run only if you need to, is used to ease calculations done in VS code\n",
    "# log_ret.to_csv(\"main.csv\")"
   ]
  },
  {
   "cell_type": "markdown",
   "metadata": {},
   "source": [
    "From here the calculations are done. "
   ]
  },
  {
   "cell_type": "code",
   "execution_count": 2,
   "metadata": {},
   "outputs": [],
   "source": [
    "random.seed(123)\n",
    "'''\n",
    "Run this only if you saved the log_ret dataframe to a csv,\n",
    "otherwise continue\n",
    "# log_ret = pd.read_csv(\"main.csv\", parse_dates = [\"date\"], index_col = 0)\n",
    "# log_ret = log_ret.dropna(axis = 1, how = \"all\").dropna(axis = 0, how = \"all\")\n",
    "'''\n",
    "# this is the variance, used in the for loop to calculate the volatility\n",
    "vol = log_ret.std()\n",
    "# init. empty data frame\n",
    "results = pd.DataFrame(columns = [\"Size\", \"Return\", \"Volatility\"])\n",
    "for i in range(6000):\n",
    "    '''\n",
    "    In this function we use random module to generate random integers (and list of integers)\n",
    "    to use along side the pandas .iloc method to get the right subset of randomly generated\n",
    "    portfolios\n",
    "    '''\n",
    "    # random size of portfolio between 1 and 30\n",
    "    randomcryptos = random.randint(1, 100)\n",
    "    # using randomcryptos to get same amount of random values between 1 and 2070\n",
    "    cryptos = random.sample(range(1,2070), randomcryptos)\n",
    "    # picking a random day\n",
    "    randomday = random.sample(range(1,698), 1)\n",
    "    # saving the size since that is one of our measures of volatility, i.e more cryptos = less vol.\n",
    "    size = len(cryptos)\n",
    "    # Calculating the mean return for said cryptos on said day\n",
    "    mean = log_ret.iloc[randomday, cryptos].mean(axis = 1)*252\n",
    "    # Calculating the std(volatility) for random cryptos \n",
    "    std = np.sqrt(vol.iloc[cryptos].sum())/len(cryptos)*252\n",
    "    # Append the results to the empty data frame\n",
    "    results = results.append({\"Size\": size, \"Return\": mean[0], \"Volatility\": std}, ignore_index = True)\n",
    "# df can be used for further ploting or calculation\n",
    "df = results.sort_values(by = \"Size\", ascending = False)\n",
    "# This is the answer to part 1, use for plotting and to generate describtive statistics\n",
    "df2 = df.groupby('Size').mean()"
   ]
  },
  {
   "cell_type": "code",
   "execution_count": 3,
   "metadata": {},
   "outputs": [
    {
     "data": {
      "image/png": "[encoded data removed]",
      "text/plain": [
       "<Figure size 432x288 with 1 Axes>"
      ]
     },
     "metadata": {
      "needs_background": "light"
     },
     "output_type": "display_data"
    }
   ],
   "source": [
    "'''\n",
    "Ploting volatility per portfolio size\n",
    "'''\n",
    "plt.plot(df2[\"Volatility\"])\n",
    "plt.title(\"Volatility per portfolio Size\")\n",
    "plt.xlabel(\"Portfolio size\")\n",
    "plt.ylabel(\"Volatility\")\n",
    "# if you have mpld3 installed, then use mpld3.display instead for interactive\n",
    "# version of the matplotlib graph\n",
    "plt.show()\n",
    "#mpld3.display()"
   ]
  },
  {
   "cell_type": "code",
   "execution_count": 4,
   "metadata": {},
   "outputs": [
    {
     "data": {
      "text/plain": [
       "'\\nFor more advanced interactive graph uncomment this lower part and run.\\nThe plotly module is required however. \\n'"
      ]
     },
     "execution_count": 4,
     "metadata": {},
     "output_type": "execute_result"
    }
   ],
   "source": [
    "'''\n",
    "For more advanced interactive graph uncomment this lower part and run.\n",
    "The plotly module is required however. \n",
    "'''\n",
    "# fig = px.line(df2, x=df2.index, y=\"Volatility\")\n",
    "# fig.update_layout(title='Volatility per Portfolio Size',\n",
    "#                     xaxis_title='Size of Portfolios',\n",
    "#                     yaxis_title='Volatility')\n",
    "# fig.show()"
   ]
  },
  {
   "cell_type": "code",
   "execution_count": 5,
   "metadata": {},
   "outputs": [
    {
     "name": "stdout",
     "output_type": "stream",
     "text": [
      "Return descriptive statistics\n",
      "count    100.000000\n",
      "mean      -0.181608\n",
      "std        2.901695\n",
      "min      -12.446094\n",
      "25%       -2.156715\n",
      "50%        0.165247\n",
      "75%        2.076671\n",
      "max        5.726610\n",
      "Name: Return, dtype: float64\n",
      "\n",
      "================================================\n",
      "\n",
      "Volatility descriptive statistics\n",
      "count    100.000000\n",
      "mean      19.332974\n",
      "std       13.671791\n",
      "min       10.431295\n",
      "25%       12.022559\n",
      "50%       14.685396\n",
      "75%       20.316638\n",
      "max      104.379236\n",
      "Name: Volatility, dtype: float64\n"
     ]
    }
   ],
   "source": [
    "print(\"Return descriptive statistics\")\n",
    "print(df2[\"Return\"].describe())\n",
    "print(\"\")\n",
    "print(\"================================================\")\n",
    "print(\"\")\n",
    "print(\"Volatility descriptive statistics\")\n",
    "print(df2[\"Volatility\"].describe())"
   ]
  },
  {
   "cell_type": "code",
   "execution_count": 6,
   "metadata": {},
   "outputs": [
    {
     "name": "stdout",
     "output_type": "stream",
     "text": [
      "Portfolio size 1\n",
      "104.379\n",
      "Portfolio size 50\n",
      "14.784\n",
      "Portfolio size 100\n",
      "10.431\n"
     ]
    }
   ],
   "source": [
    "print(\"Portfolio size 1\")\n",
    "print(round(df2[\"Volatility\"].iloc[0], 3))\n",
    "print(\"Portfolio size 50\")\n",
    "print(round(df2[\"Volatility\"].iloc[49],3))\n",
    "print(\"Portfolio size 100\")\n",
    "print(round(df2[\"Volatility\"].iloc[99],3))\n"
   ]
  },
  {
   "cell_type": "markdown",
   "metadata": {},
   "source": [
    "As it can be seen from the graph, the volatility in the portfolios decreases as we add more cryptos into our portfolio. This can also clearly see from the descriptive statistics, where our minimum volatility is 0.041 for our portfolio size 100 and 0.414 for portfolio size 1. Keep in mind these are randomly selected portfolios out of 2071 different cryptos. This does not take into consideration market cap, liquidity of each crypto and more factors that may contribute to its overall attractiveness to a portfolio manager, but from a pure data analytical point of view it greatly reduces the volatility of the portfolio.\n",
    "\n",
    "## Part 2\n",
    "\n",
    "### 2"
   ]
  },
  {
   "cell_type": "code",
   "execution_count": 38,
   "metadata": {},
   "outputs": [
    {
     "data": {
      "text/plain": [
       "Date\n",
       "2017-01-02    1021.75\n",
       "2017-01-03    1043.84\n",
       "2017-01-04    1154.73\n",
       "2017-01-05    1013.38\n",
       "2017-01-06     902.20\n",
       "               ...   \n",
       "2018-06-25    6249.18\n",
       "2018-06-26    6093.67\n",
       "2018-06-27    6157.13\n",
       "2018-06-28    5903.44\n",
       "2018-06-29    6218.30\n",
       "Name: bitcoin, Length: 390, dtype: float64"
      ]
     },
     "execution_count": 38,
     "metadata": {},
     "output_type": "execute_result"
    }
   ],
   "source": [
    "data_cmc = pd.read_csv('crypto-markets.csv')\n",
    "data_cmc['date'] = pd.to_datetime(data_cmc['date'])\n",
    "data_cmc.index = pd.DatetimeIndex(data_cmc['date'])\n",
    "symbol = 'bitcoin'\n",
    "data_symbol = pd.DataFrame(data_cmc['close'].loc[data_cmc['slug'] == symbol])\n",
    "raw['bitcoin'] = data_symbol\n",
    "data = raw[\"bitcoin\"].loc[\"2017-01-01\":].dropna()\n",
    "data"
   ]
  },
  {
   "cell_type": "code",
   "execution_count": 48,
   "metadata": {},
   "outputs": [],
   "source": [
    "\n",
    "sma1 = range(1, 64, 1)  \n",
    "sma2 = range(126, 379, 21) \n",
    "data[\"Returns\"] = data.pct_change()\n",
    "results = pd.DataFrame()\n",
    "plot_paths = pd.DataFrame()\n",
    "for SMA1, SMA2 in product(sma1, sma2):  \n",
    "    data = pd.DataFrame(raw[symbol])\n",
    "    data.dropna(inplace=True)\n",
    "    data['Returns'] = np.log(data[symbol] / data[symbol].shift(1))\n",
    "    data['SMA1'] = data[symbol].rolling(SMA1).mean()\n",
    "    data['SMA2'] = data[symbol].rolling(SMA2).mean()\n",
    "    data.dropna(inplace=True)\n",
    "    data['Position'] = np.where(data['SMA1'] > data['SMA2'], 1, -1)\n",
    "    data['Strategy'] = data['Position'].shift(1) * data['Returns']\n",
    "    data.dropna(inplace=True)\n",
    "    perf = np.exp(data[['Returns', 'Strategy']].sum())\n",
    "    \n",
    "    ret_an = (data[['Returns', 'Strategy']].mean()) * 252\n",
    "    vol_an = np.sqrt(data[['Returns', 'Strategy']].var() * 252)\n",
    "    sr_an = ret_an / vol_an\n",
    "    bench = data[\"Strategy\"].sub(data[\"Returns\"], axis = 0)\n",
    "    upper = bench.mean()\n",
    "    lower = bench.std()   \n",
    "    inforatio = upper / lower\n",
    "    years = len(data) / 252\n",
    "     \n",
    "    results = results.append(pd.DataFrame(\n",
    "                {'SMA1': SMA1, 'SMA2': SMA2,\n",
    "                 'MARKET': perf['Returns'],\n",
    "                 'STRATEGY': perf['Strategy'],\n",
    "                 'OUT': perf['Strategy'] - perf['Returns'],\n",
    "                 'RET_STRATEGY' : ret_an['Strategy'],\n",
    "                 'RET_RETURNS' : ret_an['Returns'],\n",
    "                 'VOLA_STRATEGY' : vol_an['Strategy'],\n",
    "                 'VOLA_RETURNS' : vol_an['Returns'],\n",
    "                 'SR_STRATEGY' : sr_an['Strategy'],\n",
    "                 'InfoRatio': inforatio,\n",
    "                 'SR_RETURNS' : sr_an['Returns'],\n",
    "                 't-stat_STRATEGY' : sr_an['Strategy'] * np.sqrt(years),\n",
    "                 't-stat_RETURNS' : sr_an['Returns'] * np.sqrt(years)},\n",
    "                 index=[0]), ignore_index=True)  "
   ]
  },
  {
   "cell_type": "markdown",
   "metadata": {},
   "source": [
    "### Maximize Sharpe Ratio"
   ]
  },
  {
   "cell_type": "code",
   "execution_count": 50,
   "metadata": {},
   "outputs": [
    {
     "data": {
      "text/html": [
       "<div>\n",
       "<style scoped>\n",
       "    .dataframe tbody tr th:only-of-type {\n",
       "        vertical-align: middle;\n",
       "    }\n",
       "\n",
       "    .dataframe tbody tr th {\n",
       "        vertical-align: top;\n",
       "    }\n",
       "\n",
       "    .dataframe thead th {\n",
       "        text-align: right;\n",
       "    }\n",
       "</style>\n",
       "<table border=\"1\" class=\"dataframe\">\n",
       "  <thead>\n",
       "    <tr style=\"text-align: right;\">\n",
       "      <th></th>\n",
       "      <th>SMA1</th>\n",
       "      <th>SMA2</th>\n",
       "      <th>MARKET</th>\n",
       "      <th>STRATEGY</th>\n",
       "      <th>OUT</th>\n",
       "      <th>RET_STRATEGY</th>\n",
       "      <th>RET_RETURNS</th>\n",
       "      <th>VOLA_STRATEGY</th>\n",
       "      <th>VOLA_RETURNS</th>\n",
       "      <th>SR_STRATEGY</th>\n",
       "      <th>InfoRatio</th>\n",
       "      <th>SR_RETURNS</th>\n",
       "      <th>t-stat_STRATEGY</th>\n",
       "      <th>t-stat_RETURNS</th>\n",
       "    </tr>\n",
       "  </thead>\n",
       "  <tbody>\n",
       "    <tr>\n",
       "      <td>19</td>\n",
       "      <td>2</td>\n",
       "      <td>252</td>\n",
       "      <td>12.060552</td>\n",
       "      <td>61.532452</td>\n",
       "      <td>49.4719</td>\n",
       "      <td>0.945474</td>\n",
       "      <td>0.571462</td>\n",
       "      <td>0.706616</td>\n",
       "      <td>0.708209</td>\n",
       "      <td>1.33803</td>\n",
       "      <td>0.033504</td>\n",
       "      <td>0.806911</td>\n",
       "      <td>2.792974</td>\n",
       "      <td>1.684328</td>\n",
       "    </tr>\n",
       "  </tbody>\n",
       "</table>\n",
       "</div>"
      ],
      "text/plain": [
       "    SMA1  SMA2     MARKET   STRATEGY      OUT  RET_STRATEGY  RET_RETURNS  \\\n",
       "19     2   252  12.060552  61.532452  49.4719      0.945474     0.571462   \n",
       "\n",
       "    VOLA_STRATEGY  VOLA_RETURNS  SR_STRATEGY  InfoRatio  SR_RETURNS  \\\n",
       "19       0.706616      0.708209      1.33803   0.033504    0.806911   \n",
       "\n",
       "    t-stat_STRATEGY  t-stat_RETURNS  \n",
       "19         2.792974        1.684328  "
      ]
     },
     "execution_count": 50,
     "metadata": {},
     "output_type": "execute_result"
    }
   ],
   "source": [
    "results.sort_values('SR_STRATEGY', ascending=False).head(1)"
   ]
  },
  {
   "cell_type": "markdown",
   "metadata": {},
   "source": [
    "### Maximize Information Ratio"
   ]
  },
  {
   "cell_type": "code",
   "execution_count": 51,
   "metadata": {},
   "outputs": [
    {
     "data": {
      "text/html": [
       "<div>\n",
       "<style scoped>\n",
       "    .dataframe tbody tr th:only-of-type {\n",
       "        vertical-align: middle;\n",
       "    }\n",
       "\n",
       "    .dataframe tbody tr th {\n",
       "        vertical-align: top;\n",
       "    }\n",
       "\n",
       "    .dataframe thead th {\n",
       "        text-align: right;\n",
       "    }\n",
       "</style>\n",
       "<table border=\"1\" class=\"dataframe\">\n",
       "  <thead>\n",
       "    <tr style=\"text-align: right;\">\n",
       "      <th></th>\n",
       "      <th>SMA1</th>\n",
       "      <th>SMA2</th>\n",
       "      <th>MARKET</th>\n",
       "      <th>STRATEGY</th>\n",
       "      <th>OUT</th>\n",
       "      <th>RET_STRATEGY</th>\n",
       "      <th>RET_RETURNS</th>\n",
       "      <th>VOLA_STRATEGY</th>\n",
       "      <th>VOLA_RETURNS</th>\n",
       "      <th>SR_STRATEGY</th>\n",
       "      <th>InfoRatio</th>\n",
       "      <th>SR_RETURNS</th>\n",
       "      <th>t-stat_STRATEGY</th>\n",
       "      <th>t-stat_RETURNS</th>\n",
       "    </tr>\n",
       "  </thead>\n",
       "  <tbody>\n",
       "    <tr>\n",
       "      <td>797</td>\n",
       "      <td>62</td>\n",
       "      <td>210</td>\n",
       "      <td>9.393344</td>\n",
       "      <td>57.223625</td>\n",
       "      <td>47.830281</td>\n",
       "      <td>0.894593</td>\n",
       "      <td>0.495158</td>\n",
       "      <td>0.727178</td>\n",
       "      <td>0.728693</td>\n",
       "      <td>1.230225</td>\n",
       "      <td>0.03528</td>\n",
       "      <td>0.679516</td>\n",
       "      <td>2.616595</td>\n",
       "      <td>1.445279</td>\n",
       "    </tr>\n",
       "  </tbody>\n",
       "</table>\n",
       "</div>"
      ],
      "text/plain": [
       "     SMA1  SMA2    MARKET   STRATEGY        OUT  RET_STRATEGY  RET_RETURNS  \\\n",
       "797    62   210  9.393344  57.223625  47.830281      0.894593     0.495158   \n",
       "\n",
       "     VOLA_STRATEGY  VOLA_RETURNS  SR_STRATEGY  InfoRatio  SR_RETURNS  \\\n",
       "797       0.727178      0.728693     1.230225    0.03528    0.679516   \n",
       "\n",
       "     t-stat_STRATEGY  t-stat_RETURNS  \n",
       "797         2.616595        1.445279  "
      ]
     },
     "execution_count": 51,
     "metadata": {},
     "output_type": "execute_result"
    }
   ],
   "source": [
    "results.sort_values('InfoRatio', ascending=False).head(1)"
   ]
  }
 ],
 "metadata": {
  "kernelspec": {
   "display_name": "Python 3",
   "language": "python",
   "name": "python3"
  },
  "language_info": {
   "codemirror_mode": {
    "name": "ipython",
    "version": 3
   },
   "file_extension": ".py",
   "mimetype": "text/x-python",
   "name": "python",
   "nbconvert_exporter": "python",
   "pygments_lexer": "ipython3",
   "version": "3.7.4"
  },
  "toc": {
   "base_numbering": 1,
   "nav_menu": {},
   "number_sections": true,
   "sideBar": true,
   "skip_h1_title": false,
   "title_cell": "Table of Contents",
   "title_sidebar": "Contents",
   "toc_cell": false,
   "toc_position": {},
   "toc_section_display": true,
   "toc_window_display": false
  }
 },
 "nbformat": 4,
 "nbformat_minor": 2
}
