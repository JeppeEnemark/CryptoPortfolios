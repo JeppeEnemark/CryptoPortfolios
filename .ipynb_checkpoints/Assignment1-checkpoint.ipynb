{
 "cells": [
  {
   "cell_type": "markdown",
   "metadata": {},
   "source": [
    "# Assignment 1: Group 7\n",
    "\n",
    "<br>\n",
    "\n",
    "## Part 1\n",
    " \n",
    "For this part there needs to be some data manipulation done before calculation can proceed. As it says in the assignment, first the data points from before 1.jan 2017 will be discarded, but also those columns and rows that are have all NaN values. Secondly, the date will be set as the index and pandas pivot_table function will be used to get the names of the cryptos as the headers, populated with the values from the close column, since that is the only one required for the calculations in this part. To make things easier on our system, this data frame will be exported to a csv file in a log-transformed state. "
   ]
  },
  {
   "cell_type": "code",
   "execution_count": 1,
   "metadata": {},
   "outputs": [],
   "source": [
    "import numpy as np\n",
    "import pandas as pd\n",
    "import matplotlib.pyplot as plt\n",
    "import mpld3 # if you dont have this installed, please comment this line out\n",
    "import random\n",
    "import plotly.express as px\n",
    "mpld3.enable_notebook() # if you dont have mpld3 installed, please comment this line out\n",
    "%matplotlib inline\n",
    "plt.style.use('fivethirtyeight')\n",
    "# importing the data\n",
    "df = pd.read_csv(\"crypto-markets.csv\", parse_dates = [\"date\"], index_col = 3)\n",
    "# subsetting the data frame\n",
    "df = df[['name', 'close']]\n",
    "df = df['2017-01-01':]\n",
    "# manipulating the data frame to get the log return data and pivoting the data frame\n",
    "df = df.pivot_table(index = df.index, columns = 'name', values = 'close')\n",
    "log_ret = np.log(df/df.shift(1))\n",
    "log_ret = log_ret.dropna(axis = 1, how = 'all').dropna(axis = 0, how = 'all')\n",
    "# exporting to a csv - run only if you need to, is used to ease calculations done in VS code\n",
    "# log_ret.to_csv(\"main.csv\")"
   ]
  },
  {
   "cell_type": "markdown",
   "metadata": {},
   "source": [
    "From here the calculations are done. "
   ]
  },
  {
   "cell_type": "code",
   "execution_count": 15,
   "metadata": {},
   "outputs": [],
   "source": [
    "random.seed(123)\n",
    "'''\n",
    "Run this only if you saved the log_ret dataframe to a csv,\n",
    "otherwise continue\n",
    "# log_ret = pd.read_csv(\"main.csv\", parse_dates = [\"date\"], index_col = 0)\n",
    "# log_ret = log_ret.dropna(axis = 1, how = \"all\").dropna(axis = 0, how = \"all\")\n",
    "'''\n",
    "# this is the variance, used in the for loop to calculate the volatility\n",
    "vol = log_ret.std()\n",
    "# init. empty data frame\n",
    "results = pd.DataFrame(columns = [\"Size\", \"Return\", \"Volatility\"])\n",
    "for i in range(6000):\n",
    "    '''\n",
    "    In this function we use random module to generate random integers (and list of integers)\n",
    "    to use along side the pandas .iloc method to get the right subset of randomly generated\n",
    "    portfolios\n",
    "    '''\n",
    "    # random size of portfolio between 1 and 30\n",
    "    randomcryptos = random.randint(1, 100)\n",
    "    # using randomcryptos to get same amount of random values between 1 and 2070\n",
    "    cryptos = random.sample(range(1,2070), randomcryptos)\n",
    "    # picking a random day\n",
    "    randomday = random.sample(range(1,698), 1)\n",
    "    # saving the size since that is one of our measures of volatility, i.e more cryptos = less vol.\n",
    "    size = len(cryptos)\n",
    "    # Calculating the mean return for said cryptos on said day\n",
    "    mean = log_ret.iloc[randomday, cryptos].mean(axis = 1)\n",
    "    # Calculating the std(volatility) for random cryptos \n",
    "    std = np.sqrt(vol.iloc[cryptos].sum())/len(cryptos)\n",
    "    # Append the results to the empty data frame\n",
    "    results = results.append({\"Size\": size, \"Return\": mean[0], \"Volatility\": std}, ignore_index = True)\n",
    "# df can be used for further ploting or calculation\n",
    "df = results.sort_values(by = \"Size\", ascending = False)\n",
    "# This is the answer to part 1, use for plotting and to generate describtive statistics\n",
    "df2 = df.groupby('Size').mean()"
   ]
  },
  {
   "cell_type": "code",
   "execution_count": 17,
   "metadata": {},
   "outputs": [
    {
     "data": {
      "image/png": "[encoded data removed]",
      "text/plain": [
       "<Figure size 432x288 with 1 Axes>"
      ]
     },
     "metadata": {
      "needs_background": "light"
     },
     "output_type": "display_data"
    }
   ],
   "source": [
    "'''\n",
    "Ploting volatility per portfolio size\n",
    "'''\n",
    "plt.plot(df2[\"Volatility\"])\n",
    "plt.title(\"Volatility per portfolio Size\")\n",
    "plt.xlabel(\"Portfolio size\")\n",
    "plt.ylabel(\"Volatility\")\n",
    "# if you have mpld3 installed, then use mpld3.display instead for interactive\n",
    "# version of the matplotlib graph\n",
    "plt.show()\n",
    "#mpld3.display()"
   ]
  },
  {
   "cell_type": "code",
   "execution_count": null,
   "metadata": {},
   "outputs": [],
   "source": [
    "'''\n",
    "For more advanced interactive graph uncomment this lower part and run.\n",
    "The plotly module is required however. \n",
    "'''\n",
    "# fig = px.line(df2, x=df2.index, y=\"Volatility\")\n",
    "# fig.update_layout(title='Volatility per Portfolio Size',\n",
    "#                    xaxis_title='Size of Portfolios',\n",
    "#                    yaxis_title='Volatility')\n",
    "# fig.show()"
   ]
  },
  {
   "cell_type": "code",
   "execution_count": 18,
   "metadata": {},
   "outputs": [
    {
     "name": "stdout",
     "output_type": "stream",
     "text": [
      "Return descriptive statistics\n",
      "count    100.000000\n",
      "mean      -0.000721\n",
      "std        0.011515\n",
      "min       -0.049389\n",
      "25%       -0.008558\n",
      "50%        0.000656\n",
      "75%        0.008241\n",
      "max        0.022725\n",
      "Name: Return, dtype: float64\n",
      "\n",
      "================================================\n",
      "\n",
      "Volatility descriptive statistics\n",
      "count    100.000000\n",
      "mean       0.076718\n",
      "std        0.054253\n",
      "min        0.041394\n",
      "25%        0.047709\n",
      "50%        0.058275\n",
      "75%        0.080622\n",
      "max        0.414203\n",
      "Name: Volatility, dtype: float64\n"
     ]
    }
   ],
   "source": [
    "print(\"Return descriptive statistics\")\n",
    "print(df2[\"Return\"].describe())\n",
    "print(\"\")\n",
    "print(\"================================================\")\n",
    "print(\"\")\n",
    "print(\"Volatility descriptive statistics\")\n",
    "print(df2[\"Volatility\"].describe())"
   ]
  },
  {
   "cell_type": "code",
   "execution_count": 22,
   "metadata": {},
   "outputs": [
    {
     "name": "stdout",
     "output_type": "stream",
     "text": [
      "Portfolio size 1\n",
      "0.414\n",
      "Portfolio size 50\n",
      "0.059\n",
      "Portfolio size 100\n",
      "0.041\n"
     ]
    }
   ],
   "source": [
    "print(\"Portfolio size 1\")\n",
    "print(round(df2[\"Volatility\"].iloc[0], 3))\n",
    "print(\"Portfolio size 50\")\n",
    "print(round(df2[\"Volatility\"].iloc[49],3))\n",
    "print(\"Portfolio size 100\")\n",
    "print(round(df2[\"Volatility\"].iloc[99],3))\n"
   ]
  },
  {
   "cell_type": "markdown",
   "metadata": {},
   "source": [
    "As it can be seen from the graph, the volatility in the portfolios decreases as we add more cryptos into our portfolio. This can also clearly see from the descriptive statistics, where our minimum volatility is 0.041 for our portfolio size 100 and 0.414 for portfolio size 1. Keep in mind these are randomly selected portfolios out of 2071 different cryptos. This does not take into consideration market cap, liquidity of each crypto and more factors that may contribute to its overall attractiveness to a portfolio manager, but from a pure data analytical point of view it greatly reduces the volatility of the portfolio."
   ]
  }
 ],
 "metadata": {
  "kernelspec": {
   "display_name": "Python 3",
   "language": "python",
   "name": "python3"
  },
  "language_info": {
   "codemirror_mode": {
    "name": "ipython",
    "version": 3
   },
   "file_extension": ".py",
   "mimetype": "text/x-python",
   "name": "python",
   "nbconvert_exporter": "python",
   "pygments_lexer": "ipython3",
   "version": "3.7.4"
  },
  "toc": {
   "base_numbering": 1,
   "nav_menu": {},
   "number_sections": true,
   "sideBar": true,
   "skip_h1_title": false,
   "title_cell": "Table of Contents",
   "title_sidebar": "Contents",
   "toc_cell": false,
   "toc_position": {},
   "toc_section_display": true,
   "toc_window_display": false
  }
 },
 "nbformat": 4,
 "nbformat_minor": 2
}
