{
 "cells": [
  {
   "cell_type": "markdown",
   "metadata": {},
   "source": [
    "# Assignment 1: Group 7\n",
    "\n",
    "## Part 1\n",
    "\n",
    "For this part there needs to be some data manipulation done before calculation can proceed. As it says in the assignment, first the data points from before 1.jan 2017 will be discarded, but also those columns and rows that are have all NaN values. Secondly, the date will be set as the index and pandas pivot_table function will be used to get the names of the cryptos as the headers, populated with the values from the close column, since that is the only one required for the calculations in this part. To make things easier on our system, this data frame will be exported to a csv file. "
   ]
  },
  {
   "cell_type": "code",
   "execution_count": 1,
   "metadata": {},
   "outputs": [],
   "source": [
    "import numpy as np\n",
    "import pandas as pd\n",
    "import matplotlib.pyplot as plt\n",
    "import random\n",
    "# importing the data\n",
    "df = pd.read_csv(\"crypto-markets.csv\", parse_dates = [\"date\"], index_col = 3)\n",
    "# subsetting the data frame\n",
    "df = df[['name', 'close']]\n",
    "df = df['2017-01-01':]\n",
    "# manipulating the data frame to get the log return data and pivoting the data frame\n",
    "df = df.pivot_table(index = df.index, columns = 'name', values = 'close')\n",
    "log_ret = np.log(df/df.shift(1))\n",
    "log_ret = log_ret.dropna(axis = 1, how = 'all').dropna(axis = 0, how = 'all')\n",
    "# exporting to a csv - run only if you need to\n",
    "# log_ret.to_csv(\"main.csv\")"
   ]
  },
  {
   "cell_type": "markdown",
   "metadata": {},
   "source": [
    "From here the calculations are done. I wont elaborate more on this as it follows the instructions of the assignment."
   ]
  },
  {
   "cell_type": "code",
   "execution_count": 3,
   "metadata": {},
   "outputs": [
    {
     "data": {
      "image/png": "[encoded data removed]",
      "text/plain": [
       "<Figure size 432x288 with 1 Axes>"
      ]
     },
     "metadata": {
      "needs_background": "light"
     },
     "output_type": "display_data"
    }
   ],
   "source": [
    "random.seed(123)\n",
    "log_ret = pd.read_csv(\"main.csv\", parse_dates = [\"date\"], index_col = 0)\n",
    "log_ret = log_ret.dropna(axis = 1, how = \"all\").dropna(axis = 0, how = \"all\")\n",
    "\n",
    "vol = log_ret.std()\n",
    "f = 1\n",
    "results = pd.DataFrame(columns = [\"Size\", \"Return\", \"Volatility\"])\n",
    "for i in range(1000):\n",
    "    randomcryptos = random.randint(1, 30)\n",
    "    cryptos = random.sample(range(1,2071), randomcryptos)\n",
    "    randomday = random.sample(range(1,699), 1)\n",
    "    size = len(cryptos)\n",
    "    mean = log_ret.iloc[randomday, cryptos].mean(axis = 1)\n",
    "    std = np.sqrt(vol.iloc[cryptos].sum())/len(cryptos)\n",
    "    results = results.append({\"Size\": size, \"Return\": mean[0], \"Volatility\": std}, ignore_index = True)\n",
    "\n",
    "df = results.sort_values(by = \"Size\", ascending = False)\n",
    "df2 = df.groupby('Size').mean()\n",
    "\n",
    "plt.plot(df2[\"Volatility\"])\n",
    "plt.title(\"Volatility for randomly selected cryptos into differing sized portfolios\")\n",
    "plt.xlabel(\"Size of portfolios\")\n",
    "plt.ylabel(\"Volatility\")\n",
    "plt.show()"
   ]
  },
  {
   "cell_type": "code",
   "execution_count": 31,
   "metadata": {},
   "outputs": [
    {
     "name": "stdout",
     "output_type": "stream",
     "text": [
      "Return describtive statistics\n"
     ]
    },
    {
     "data": {
      "text/plain": [
       "count    30.000000\n",
       "mean     -0.001828\n",
       "std       0.024623\n",
       "min      -0.042598\n",
       "25%      -0.015225\n",
       "50%      -0.006014\n",
       "75%       0.009245\n",
       "max       0.068996\n",
       "Name: Return, dtype: float64"
      ]
     },
     "metadata": {},
     "output_type": "display_data"
    },
    {
     "name": "stdout",
     "output_type": "stream",
     "text": [
      "================================================\n",
      "Volatility describtive statistics\n"
     ]
    },
    {
     "data": {
      "text/plain": [
       "count    30.000000\n",
       "mean      0.130975\n",
       "std       0.071478\n",
       "min       0.075606\n",
       "25%       0.086767\n",
       "50%       0.105886\n",
       "75%       0.148930\n",
       "max       0.402758\n",
       "Name: Volatility, dtype: float64"
      ]
     },
     "metadata": {},
     "output_type": "display_data"
    }
   ],
   "source": [
    "print(\"Return describtive statistics\")\n",
    "display(df2[\"Return\"].describe())\n",
    "print(\"================================================\")\n",
    "print(\"Volatility describtive statistics\")\n",
    "display(df2[\"Volatility\"].describe())"
   ]
  }
 ],
 "metadata": {
  "kernelspec": {
   "display_name": "Python 3",
   "language": "python",
   "name": "python3"
  },
  "language_info": {
   "codemirror_mode": {
    "name": "ipython",
    "version": 3
   },
   "file_extension": ".py",
   "mimetype": "text/x-python",
   "name": "python",
   "nbconvert_exporter": "python",
   "pygments_lexer": "ipython3",
   "version": "3.7.4"
  },
  "toc": {
   "base_numbering": 1,
   "nav_menu": {},
   "number_sections": true,
   "sideBar": true,
   "skip_h1_title": false,
   "title_cell": "Table of Contents",
   "title_sidebar": "Contents",
   "toc_cell": false,
   "toc_position": {},
   "toc_section_display": true,
   "toc_window_display": false
  }
 },
 "nbformat": 4,
 "nbformat_minor": 2
}
