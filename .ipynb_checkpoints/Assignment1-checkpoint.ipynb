{
 "cells": [
  {
   "cell_type": "markdown",
   "metadata": {},
   "source": [
    "# Assignment 1: Group 7\n",
    "\n",
    "<br>\n",
    "\n",
    "## Part 1\n",
    " \n",
    "For this part there needs to be some data manipulation done before calculation can proceed. As it says in the assignment, first the data points from before 1.jan 2017 will be discarded, but also those columns and rows that are have all NaN values. Secondly, the date will be set as the index and pandas pivot_table function will be used to get the names of the cryptos as the headers, populated with the values from the close column, since that is the only one required for the calculations in this part. To make things easier on our system, this data frame will be exported to a csv file in a log-transformed state. "
   ]
  },
  {
   "cell_type": "code",
   "execution_count": 1,
   "metadata": {},
   "outputs": [],
   "source": [
    "try:\n",
    "    import numpy as np\n",
    "    import pandas as pd\n",
    "    import matplotlib.pyplot as plt\n",
    "    import mpld3 # if you dont have this installed, please comment this line out\n",
    "    import random\n",
    "    import plotly.express as px\n",
    "    from itertools import product\n",
    "except ModuleNotFoundError:\n",
    "    print(\"You might need to install some modules, please use pip or conda install <package-name> and restart the kernel\")\n",
    "\n",
    "mpld3.enable_notebook() # if you dont have mpld3 installed, please comment this line out\n",
    "%matplotlib inline\n",
    "plt.style.use('fivethirtyeight')\n",
    "# importing the data\n",
    "df = pd.read_csv(\"crypto-markets.csv\", parse_dates = [\"date\"], index_col = 3)\n",
    "# subsetting the data frame\n",
    "df = df[['name', 'close']]\n",
    "df = df['2017-01-01':]\n",
    "# manipulating the data frame to get the log return data and pivoting the data frame\n",
    "df = df.pivot_table(index = df.index, columns = 'name', values = 'close')\n",
    "log_ret = np.log(df/df.shift(1))\n",
    "log_ret = log_ret.dropna(axis = 1, how = 'all').dropna(axis = 0, how = 'all')\n",
    "# exporting to a csv - run only if you need to, is used to ease calculations done in VS code\n",
    "# log_ret.to_csv(\"main.csv\")"
   ]
  },
  {
   "cell_type": "markdown",
   "metadata": {},
   "source": [
    "From here the calculations are done. "
   ]
  },
  {
   "cell_type": "code",
   "execution_count": 2,
   "metadata": {},
   "outputs": [
    {
     "name": "stdout",
     "output_type": "stream",
     "text": [
      "Wall time: 32.4 s\n"
     ]
    }
   ],
   "source": [
    "%%time\n",
    "random.seed(123)\n",
    "'''\n",
    "Run this only if you saved the log_ret dataframe to a csv,\n",
    "otherwise continue\n",
    "# log_ret = pd.read_csv(\"main.csv\", parse_dates = [\"date\"], index_col = 0)\n",
    "# log_ret = log_ret.dropna(axis = 1, how = \"all\").dropna(axis = 0, how = \"all\")\n",
    "'''\n",
    "# this is the variance, used in the for loop to calculate the volatility\n",
    "vol = log_ret.std()\n",
    "# init. empty data frame\n",
    "results = pd.DataFrame(columns = [\"Size\", \"Return\", \"Volatility\"])\n",
    "for i in range(10000):\n",
    "    '''\n",
    "    In this function we use random module to generate random integers (and list of integers)\n",
    "    to use along side the pandas .iloc method to get the right subset of randomly generated\n",
    "    portfolios\n",
    "    '''\n",
    "    # random size of portfolio between 1 and 30\n",
    "    randomcryptos = random.randint(1, 100)\n",
    "    # using randomcryptos to get same amount of random values between 1 and 2070\n",
    "    cryptos = random.sample(range(0,2070), randomcryptos)\n",
    "    # picking a random day\n",
    "    randomday = random.sample(range(0,698), 1)\n",
    "    # saving the size since that is one of our measures of volatility, i.e more cryptos = less vol.\n",
    "    size = len(cryptos)\n",
    "    # Calculating the mean return for said cryptos on said day\n",
    "    mean = log_ret.iloc[randomday, cryptos].mean(axis = 1)\n",
    "    # Calculating the std(volatility) for random cryptos \n",
    "    std = np.sqrt(vol.iloc[cryptos].sum())/len(cryptos)\n",
    "    #Append the results to the empty data frame\n",
    "    results = results.append({\"Size\": size, \"Return\": mean[0], \"Volatility\": std}, ignore_index = True)\n",
    "# df can be used for further ploting or calculation\n",
    "df = results.sort_values(by = \"Size\", ascending = False)\n",
    "# This is the answer to part 1, use for plotting and to generate describtive statistics\n",
    "df2 = df.groupby('Size').mean()"
   ]
  },
  {
   "cell_type": "code",
   "execution_count": 3,
   "metadata": {},
   "outputs": [
    {
     "data": {
      "image/png": "[encoded data removed]",
      "text/plain": [
       "<Figure size 432x288 with 1 Axes>"
      ]
     },
     "metadata": {
      "needs_background": "light"
     },
     "output_type": "display_data"
    }
   ],
   "source": [
    "'''\n",
    "Ploting volatility per portfolio size\n",
    "'''\n",
    "plt.plot(df2[\"Volatility\"])\n",
    "plt.title(\"Volatility per portfolio Size\")\n",
    "plt.xlabel(\"Portfolio size\")\n",
    "plt.ylabel(\"Volatility\")\n",
    "# if you have mpld3 installed, then use mpld3.display instead for interactive\n",
    "# version of the matplotlib graph\n",
    "plt.show()\n",
    "#mpld3.display()"
   ]
  },
  {
   "cell_type": "code",
   "execution_count": 4,
   "metadata": {},
   "outputs": [
    {
     "data": {
      "text/plain": [
       "'\\nFor more advanced interactive graph uncomment this lower part and run.\\nThe plotly module is required however. \\n# '"
      ]
     },
     "execution_count": 4,
     "metadata": {},
     "output_type": "execute_result"
    }
   ],
   "source": [
    "'''\n",
    "For more advanced interactive graph uncomment this lower part and run.\n",
    "The plotly module is required however. \n",
    "# '''\n",
    "# fig = px.line(df2, x=df2.index, y=\"Volatility\")\n",
    "# fig.update_layout(title='Volatility per Portfolio Size',\n",
    "#                     xaxis_title='Size of Portfolios',\n",
    "#                     yaxis_title='Volatility')\n",
    "# fig.show()"
   ]
  },
  {
   "cell_type": "code",
   "execution_count": 5,
   "metadata": {},
   "outputs": [
    {
     "name": "stdout",
     "output_type": "stream",
     "text": [
      "Return descriptive statistics\n",
      "count    100.000000\n",
      "mean      -0.000798\n",
      "std        0.009957\n",
      "min       -0.043292\n",
      "25%       -0.006086\n",
      "50%       -0.001760\n",
      "75%        0.005503\n",
      "max        0.018547\n",
      "Name: Return, dtype: float64\n",
      "\n",
      "================================================\n",
      "\n",
      "Volatility descriptive statistics\n",
      "count    100.000000\n",
      "mean       0.076613\n",
      "std        0.054058\n",
      "min        0.041448\n",
      "25%        0.047470\n",
      "50%        0.058185\n",
      "75%        0.081204\n",
      "max        0.412729\n",
      "Name: Volatility, dtype: float64\n"
     ]
    }
   ],
   "source": [
    "print(\"Return descriptive statistics\")\n",
    "print(df2[\"Return\"].describe())\n",
    "print(\"\")\n",
    "print(\"================================================\")\n",
    "print(\"\")\n",
    "print(\"Volatility descriptive statistics\")\n",
    "print(df2[\"Volatility\"].describe())"
   ]
  },
  {
   "cell_type": "code",
   "execution_count": 6,
   "metadata": {},
   "outputs": [
    {
     "name": "stdout",
     "output_type": "stream",
     "text": [
      "Portfolio size 1\n",
      "0.413\n",
      "Portfolio size 50\n",
      "0.058\n",
      "Portfolio size 100\n",
      "0.042\n"
     ]
    }
   ],
   "source": [
    "print(\"Portfolio size 1\")\n",
    "print(round(df2[\"Volatility\"].iloc[0], 3))\n",
    "print(\"Portfolio size 50\")\n",
    "print(round(df2[\"Volatility\"].iloc[49],3))\n",
    "print(\"Portfolio size 100\")\n",
    "print(round(df2[\"Volatility\"].iloc[99],3))\n"
   ]
  },
  {
   "cell_type": "markdown",
   "metadata": {},
   "source": [
    "As it can be seen from the graph, the volatility in the portfolios decreases as we add more cryptos into our portfolio. This can also clearly see from the descriptive statistics, where our minimum volatility is 0.041 for our portfolio size 100 and 0.414 for portfolio size 1. Keep in mind these are randomly selected portfolios out of 2071 different cryptos. This does not take into consideration market cap, liquidity of each crypto and more factors that may contribute to its overall attractiveness to a portfolio manager, but from a pure data analytical point of view it greatly reduces the volatility of the portfolio.\n",
    "\n",
    "## Part 2\n",
    "\n",
    "### 1\n",
    "\n",
    "<center>Backtesting\n",
    "C. R. Harvey and Y. Liu (2015)</center>\n",
    "\n",
    "<br>\n",
    "While evaluating multiple testing, in finance, it is quite common to use a “rule of thumb” that provides a 50% discount of the Sharpe Ratio of any given investing strategy. This approach is used in order to avoid false discoveries (so the probability to mistake a non-effective strategy as an effective one), which are quite likely while evaluating a big number of strategies. The idea behind this work is that this rule of thumb is too aggressive with highly profitable strategy and too bland against the less profitable one.\n",
    "Harvey and Liu (HL), in this paper, provide a series of mathematical tools to discount more effectively the Sharpe Ratio in order to adjust for the intense data mining. The study uses the mathematical link between the t-statistic, the P-value and the Sharpe Ratio.\n",
    "\n",
    "The analysis starts from the **Family wise Error Rate** (FWER), which is the probability of making at least 1 false discovery. In order to avoid this problem HL present two similar approach:\n",
    "\n",
    "1. The Bonferroni’s method, which consist in creating a new sequence of values obtained by multiplying the p-value of every strategy for the number of tests.\n",
    "\n",
    "2. The Holm’s method, where the p-value is sorted in ascending order and instead of multiplying every p-value for the number of tests, the new sequence is created by choosing every time the max between the adjusted P-value of the previous test and the result of the multiplication of the current P-value and M-j+1, where M is the number of test and j is the position of the current P-value in the sequence. So, if for example there are 6 tests, the adjusted P-value in position 2 is calculated as: $Max [6P_{(1)}; 5P_{(2)}]$.\n",
    "\n",
    "Both methods are design to avoid any possible false discovery. It is easy to notice that Bonferroni’s one is way more severe and provides smaller adjusted Sharpe Ratios. \n",
    "The paper then focuses on the **False Discovery Rate** (FDR), which studies the proportion of false discovery. \n",
    "3. Benjamini, Hochberg and Yekutieli’s procedure assure that the rate of false discovery doesn’t exceed a pre-specified significance level. It uses a descendent order of the P-values and adjust them by minimizing between $[P_{\\left(I+1\\right)}; \\frac{MxC(M)}{I}P_{\\left(I\\right)}]$ where I is the position of the P-value in the sequence, M is the number of tests and $C\\left(M\\right)=\\ \\sum_{J=1}^{M} \\frac{1}{J}$. \n",
    "\n",
    "All these corrections provide adjusted P-values that control for multiple testing and can be transformed in adjusted Sharpe Ratios. \n",
    "Out of Sample testing is a possible alternative to In Sample multiple testing. This strategy presents several issues that can’t be easily corrected. The authors suggest merging the two different approach in order to get the benefits of them both. The basic idea is to run an in sample test with a lenient cutoff and use the out of sample approach to look for the best strategy overall.\n",
    "At the end of the paper the authors perform a series of empirical tests on three different investing strategies (zero cost hedge portfolio). The tests confirm the necessity of adapting the adjustment of the Sharpe Ratio to its initial value (the higher the initial value, the lower the haircut).\n",
    "The statistic reason behind result is straightforward. It is indeed more likely that a marginal strategy (with a t statistic just sufficient) is a false discovery, and so must be penalized more.\n",
    "\n",
    "\n",
    "### 2\n",
    "\n",
    "The strategy is such that when the short-term average becomes bigger than the long-term average, then we go long in the bitcoin, otherwise we short it.\n",
    "We find that the best Simple Moving Average (SMA) strategy (that maximizes Sharpe ratio) is having a short-term window length of 2 and long-term window of 252. Our short-term window is very short, and our long-term window is a whole trading year. \n",
    "The Sharpe-ratio is calculated as following:\n",
    "\n",
    "$R_p = return \\ of \\ portfolio$\n",
    "\n",
    "$R_f = risk \\ free \\ rate$\n",
    "\n",
    "$\\sigma_p = standard \\ deviation \\ of \\ portfolio$\n",
    "\n",
    "$Sharpe-ratio = \\frac{R_p - R_f}{\\sigma_p}$\n",
    "\n",
    "In our example the *risk free rate* is assumed to be 0 (zero).\n",
    "\n",
    "Using this strategy, we have a Sharpe-ratio of 1,338, which is good. We get a lot of return considering the risk we take. The benchmark strategy (only going long) has a Sharpe-ratio of 0,8069 here.\n",
    "\n",
    "### 3\n",
    "**Adjusting for multiple testing**\n",
    "\n",
    "Our t-statistic is 2,793, which is significant at a 5% level.\n",
    "Since we have multiple testing of many different strategies, and our Sharpe-ratio is above 1, we could take a haircut of 25% to adjust for this, so we get a haircut Sharpe-ratio of 1,0035, which is still bigger than the benchmark Sharpe-ratio.\n",
    "\n"
   ]
  },
  {
   "cell_type": "code",
   "execution_count": 7,
   "metadata": {},
   "outputs": [],
   "source": [
    "raw = pd.read_csv('tr_eikon_eod_data.csv',\n",
    "                  index_col=0, parse_dates=True)\n",
    "data_cmc = pd.read_csv('crypto-markets.csv')\n",
    "data_cmc['date'] = pd.to_datetime(data_cmc['date'])\n",
    "data_cmc.index = pd.DatetimeIndex(data_cmc['date'])\n",
    "symbol = 'bitcoin'\n",
    "data_symbol = pd.DataFrame(data_cmc['close'].loc[data_cmc['slug'] == symbol])\n",
    "raw['bitcoin'] = data_symbol\n",
    "\n",
    "data = (\n",
    "    pd.DataFrame(raw[symbol])\n",
    "    .dropna()\n",
    ")"
   ]
  },
  {
   "cell_type": "code",
   "execution_count": 8,
   "metadata": {},
   "outputs": [
    {
     "name": "stdout",
     "output_type": "stream",
     "text": [
      "Wall time: 22.4 s\n"
     ]
    }
   ],
   "source": [
    "%%time\n",
    "sma1 = range(1, 64, 1)  \n",
    "sma2 = range(126, 379, 21) \n",
    "data[\"Returns\"] = data[\"bitcoin\"].pct_change()\n",
    "results = pd.DataFrame()\n",
    "plot_paths = pd.DataFrame()\n",
    "for SMA1, SMA2 in product(sma1, sma2):  \n",
    "    data = pd.DataFrame(raw[symbol])\n",
    "    data.dropna(inplace=True)\n",
    "    data['Returns'] = np.log(data[symbol] / data[symbol].shift(1))\n",
    "    data['SMA1'] = data[symbol].rolling(SMA1).mean()\n",
    "    data['SMA2'] = data[symbol].rolling(SMA2).mean()\n",
    "    data.dropna(inplace=True)\n",
    "    data['Position'] = np.where(data['SMA1'] > data['SMA2'], 1, -1)\n",
    "    data['Strategy'] = data['Position'].shift(1) * data['Returns']\n",
    "    data.dropna(inplace=True)\n",
    "    perf = np.exp(data[['Returns', 'Strategy']].sum())\n",
    "    \n",
    "    ret_an = (data[['Returns', 'Strategy']].mean()) * 252\n",
    "    vol_an = np.sqrt(data[['Returns', 'Strategy']].var() * 252)\n",
    "    sr_an = ret_an / vol_an\n",
    "    bench = data[\"Strategy\"].sub(data[\"Returns\"], axis = 0)\n",
    "    upper = bench.mean()\n",
    "    lower = bench.std()   \n",
    "    inforatio = upper / lower\n",
    "    years = len(data) / 252\n",
    "     \n",
    "    results = results.append(pd.DataFrame(\n",
    "                {'SMA1': SMA1, 'SMA2': SMA2,\n",
    "                 'MARKET': perf['Returns'],\n",
    "                 'STRATEGY': perf['Strategy'],\n",
    "                 'OUT': perf['Strategy'] - perf['Returns'],\n",
    "                 'RET_STRATEGY' : ret_an['Strategy'],\n",
    "                 'RET_RETURNS' : ret_an['Returns'],\n",
    "                 'VOLA_STRATEGY' : vol_an['Strategy'],\n",
    "                 'VOLA_RETURNS' : vol_an['Returns'],\n",
    "                 'SR_STRATEGY' : sr_an['Strategy'],\n",
    "                 'InfoRatio': inforatio,\n",
    "                 'SR_RETURNS' : sr_an['Returns'],\n",
    "                 't-stat_STRATEGY' : sr_an['Strategy'] * np.sqrt(years),\n",
    "                 't-stat_RETURNS' : sr_an['Returns'] * np.sqrt(years)},\n",
    "                 index=[0]), ignore_index=True)"
   ]
  },
  {
   "cell_type": "code",
   "execution_count": 9,
   "metadata": {},
   "outputs": [
    {
     "data": {
      "text/html": [
       "<div>\n",
       "<style scoped>\n",
       "    .dataframe tbody tr th:only-of-type {\n",
       "        vertical-align: middle;\n",
       "    }\n",
       "\n",
       "    .dataframe tbody tr th {\n",
       "        vertical-align: top;\n",
       "    }\n",
       "\n",
       "    .dataframe thead th {\n",
       "        text-align: right;\n",
       "    }\n",
       "</style>\n",
       "<table border=\"1\" class=\"dataframe\">\n",
       "  <thead>\n",
       "    <tr style=\"text-align: right;\">\n",
       "      <th></th>\n",
       "      <th>SMA1</th>\n",
       "      <th>SMA2</th>\n",
       "      <th>MARKET</th>\n",
       "      <th>STRATEGY</th>\n",
       "      <th>OUT</th>\n",
       "      <th>RET_STRATEGY</th>\n",
       "      <th>RET_RETURNS</th>\n",
       "      <th>VOLA_STRATEGY</th>\n",
       "      <th>VOLA_RETURNS</th>\n",
       "      <th>SR_STRATEGY</th>\n",
       "      <th>InfoRatio</th>\n",
       "      <th>SR_RETURNS</th>\n",
       "      <th>t-stat_STRATEGY</th>\n",
       "      <th>t-stat_RETURNS</th>\n",
       "    </tr>\n",
       "  </thead>\n",
       "  <tbody>\n",
       "    <tr>\n",
       "      <td>19</td>\n",
       "      <td>2</td>\n",
       "      <td>252</td>\n",
       "      <td>12.060552</td>\n",
       "      <td>61.532452</td>\n",
       "      <td>49.4719</td>\n",
       "      <td>0.945474</td>\n",
       "      <td>0.571462</td>\n",
       "      <td>0.706616</td>\n",
       "      <td>0.708209</td>\n",
       "      <td>1.33803</td>\n",
       "      <td>0.033504</td>\n",
       "      <td>0.806911</td>\n",
       "      <td>2.792974</td>\n",
       "      <td>1.684328</td>\n",
       "    </tr>\n",
       "  </tbody>\n",
       "</table>\n",
       "</div>"
      ],
      "text/plain": [
       "    SMA1  SMA2     MARKET   STRATEGY      OUT  RET_STRATEGY  RET_RETURNS  \\\n",
       "19     2   252  12.060552  61.532452  49.4719      0.945474     0.571462   \n",
       "\n",
       "    VOLA_STRATEGY  VOLA_RETURNS  SR_STRATEGY  InfoRatio  SR_RETURNS  \\\n",
       "19       0.706616      0.708209      1.33803   0.033504    0.806911   \n",
       "\n",
       "    t-stat_STRATEGY  t-stat_RETURNS  \n",
       "19         2.792974        1.684328  "
      ]
     },
     "execution_count": 9,
     "metadata": {},
     "output_type": "execute_result"
    }
   ],
   "source": [
    "results.sort_values('SR_STRATEGY', ascending=False).head(1)"
   ]
  },
  {
   "cell_type": "markdown",
   "metadata": {},
   "source": [
    "### 4\n",
    "\n",
    "Exercise 2.4 \n",
    "\n",
    "The information ratio, is a measurement of a portfolios returns in excess of some benchmark, usually an index like the S&P500 or Russell 1000 Index. Simply, the information ratio is a measure of mean-variance of an active portfolio, and the calculations of this ratio is based on the formulas for the mean and the standard deviation. \n",
    "\n",
    "The excess return of the active portfolio, compared to the benchmark, is then described as:\n",
    "\n",
    "<center>$ER_t=R_{P,t}-R_{B,t}$</center>\n",
    "\n",
    "<br>\n",
    "where R_{P,t} is the active portfolio, compared to a benchmark portfolio, $R_{B,t}$. The arithmetic mean is given by:\n",
    "\n",
    "<center>$\\bar{ER}=\\frac{1}{T}\\sum_{t=1}^{T}{ER_t}$</center>\n",
    "\n",
    "<br>\n",
    "With standard deviation of the excess return given as:  \n",
    "\n",
    "<center>${\\hat{\\sigma}}_{ER}=\\frac{1}{T-1}\\sum_{t=1}^{T}\\left(ER_t-\\bar{ER}\\right)^2$</center>\n",
    "\n",
    "<br>\n",
    "The information ratio is just the excess return over volatility:\n",
    "\n",
    "<center>$IR=\\frac{\\bar{ER}}{{\\hat{\\sigma}}_{ER}}$</center>"
   ]
  },
  {
   "cell_type": "markdown",
   "metadata": {},
   "source": [
    "### 5\n",
    "\n",
    "**Information Ratio strategy**\n",
    "\n",
    "Now trying to maximize information ratio, we have that it is best to have a short-term window length of 62 and long-term window of 210.\n",
    "This strategy yields a return of 0,8946 and a volatility of 0,7271.\n",
    "Now our information ratio is calculating as following:\n",
    "\n",
    "$IR = \\frac{P_r - B_r}{\\sigma(P_r - B_r)}$\n",
    "\n",
    "$P_r = Portfolio \\ returns$\n",
    "\n",
    "$B_r = Benchmark \\ returns$\n",
    "\n",
    "The tracking error would be the $\\sigma$(standard deviation) of the difference between the Portfolio and Benchmark returns, which is our divisor. In our case this yields an Information Ration of $0.035$\n",
    "\n",
    "That means we get 0,03 more return (than the benchmark) for every unit of volatility we have.\n",
    "The information measures if we have done better than the benchmark (just going long). This information ratio is low, which means we are not doing much better than the benchmark (accounting for risk vs return).\n",
    "\n",
    "It is important to note that using this strategy it relies heavily on the benchmark. Had we used another benchmark strategy (for example going only short), we would yield a totally different result, maybe a high information ratio.\n",
    "\n",
    "**Adjusting for multiple testing**:\n",
    "Our t-statistic is 2,6166, which is significant at a 5% level.\n",
    "\n",
    "<br>\n",
    "\n",
    "#### Sharpe-ratio vs Information ratio:\n",
    "\n",
    "The strategy of maximizing Sharpe-ratio vs maximizing Information-ratio didn’t make a very big difference in terms of different returns vs volatility, but it did make a difference on the optimal intervals of the short and long window lengths.\n",
    "The Sharpe ratios and Information ratios were very close to each other, even though the strategies were not that similar (short window of 2 vs 62 and long window of 252 vs 210).\n",
    "\n",
    "#### Maximize Information Ratio\n"
   ]
  },
  {
   "cell_type": "code",
   "execution_count": 10,
   "metadata": {},
   "outputs": [
    {
     "data": {
      "text/html": [
       "<div>\n",
       "<style scoped>\n",
       "    .dataframe tbody tr th:only-of-type {\n",
       "        vertical-align: middle;\n",
       "    }\n",
       "\n",
       "    .dataframe tbody tr th {\n",
       "        vertical-align: top;\n",
       "    }\n",
       "\n",
       "    .dataframe thead th {\n",
       "        text-align: right;\n",
       "    }\n",
       "</style>\n",
       "<table border=\"1\" class=\"dataframe\">\n",
       "  <thead>\n",
       "    <tr style=\"text-align: right;\">\n",
       "      <th></th>\n",
       "      <th>SMA1</th>\n",
       "      <th>SMA2</th>\n",
       "      <th>MARKET</th>\n",
       "      <th>STRATEGY</th>\n",
       "      <th>OUT</th>\n",
       "      <th>RET_STRATEGY</th>\n",
       "      <th>RET_RETURNS</th>\n",
       "      <th>VOLA_STRATEGY</th>\n",
       "      <th>VOLA_RETURNS</th>\n",
       "      <th>SR_STRATEGY</th>\n",
       "      <th>InfoRatio</th>\n",
       "      <th>SR_RETURNS</th>\n",
       "      <th>t-stat_STRATEGY</th>\n",
       "      <th>t-stat_RETURNS</th>\n",
       "    </tr>\n",
       "  </thead>\n",
       "  <tbody>\n",
       "    <tr>\n",
       "      <td>797</td>\n",
       "      <td>62</td>\n",
       "      <td>210</td>\n",
       "      <td>9.393344</td>\n",
       "      <td>57.223625</td>\n",
       "      <td>47.830281</td>\n",
       "      <td>0.894593</td>\n",
       "      <td>0.495158</td>\n",
       "      <td>0.727178</td>\n",
       "      <td>0.728693</td>\n",
       "      <td>1.230225</td>\n",
       "      <td>0.03528</td>\n",
       "      <td>0.679516</td>\n",
       "      <td>2.616595</td>\n",
       "      <td>1.445279</td>\n",
       "    </tr>\n",
       "  </tbody>\n",
       "</table>\n",
       "</div>"
      ],
      "text/plain": [
       "     SMA1  SMA2    MARKET   STRATEGY        OUT  RET_STRATEGY  RET_RETURNS  \\\n",
       "797    62   210  9.393344  57.223625  47.830281      0.894593     0.495158   \n",
       "\n",
       "     VOLA_STRATEGY  VOLA_RETURNS  SR_STRATEGY  InfoRatio  SR_RETURNS  \\\n",
       "797       0.727178      0.728693     1.230225    0.03528    0.679516   \n",
       "\n",
       "     t-stat_STRATEGY  t-stat_RETURNS  \n",
       "797         2.616595        1.445279  "
      ]
     },
     "execution_count": 10,
     "metadata": {},
     "output_type": "execute_result"
    }
   ],
   "source": [
    "results.sort_values('InfoRatio', ascending=False).head(1)"
   ]
  }
 ],
 "metadata": {
  "kernelspec": {
   "display_name": "Python 3",
   "language": "python",
   "name": "python3"
  },
  "language_info": {
   "codemirror_mode": {
    "name": "ipython",
    "version": 3
   },
   "file_extension": ".py",
   "mimetype": "text/x-python",
   "name": "python",
   "nbconvert_exporter": "python",
   "pygments_lexer": "ipython3",
   "version": "3.7.4"
  },
  "toc": {
   "base_numbering": 1,
   "nav_menu": {},
   "number_sections": true,
   "sideBar": true,
   "skip_h1_title": false,
   "title_cell": "Table of Contents",
   "title_sidebar": "Contents",
   "toc_cell": false,
   "toc_position": {},
   "toc_section_display": true,
   "toc_window_display": false
  }
 },
 "nbformat": 4,
 "nbformat_minor": 2
}
