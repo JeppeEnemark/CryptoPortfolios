{
 "cells": [
  {
   "cell_type": "markdown",
   "metadata": {},
   "source": [
    "# Assignment 1: Group 7\n",
    "\n",
    "<br>\n",
    "\n",
    "## Part 1\n",
    " \n",
    "For this part there needs to be some data manipulation done before calculation can proceed. As it says in the assignment, first the data points from before 1.jan 2017 will be discarded, but also those columns and rows that are have all NaN values. Secondly, the date will be set as the index and pandas pivot_table function will be used to get the names of the cryptos as the headers, populated with the values from the close column, since that is the only one required for the calculations in this part. To make things easier on our system, this data frame will be exported to a csv file in a log-transformed state. "
   ]
  },
  {
   "cell_type": "code",
   "execution_count": 1,
   "metadata": {},
   "outputs": [],
   "source": [
    "import numpy as np\n",
    "import pandas as pd\n",
    "import matplotlib.pyplot as plt\n",
    "import mpld3 # if you dont have this installed, please comment this line out\n",
    "import random\n",
    "import plotly.express as px\n",
    "from itertools import product\n",
    "\n",
    "mpld3.enable_notebook() # if you dont have mpld3 installed, please comment this line out\n",
    "%matplotlib inline\n",
    "plt.style.use('fivethirtyeight')\n",
    "# importing the data\n",
    "df = pd.read_csv(\"crypto-markets.csv\", parse_dates = [\"date\"], index_col = 3)\n",
    "# subsetting the data frame\n",
    "df = df[['name', 'close']]\n",
    "df = df['2017-01-01':]\n",
    "# manipulating the data frame to get the log return data and pivoting the data frame\n",
    "df = df.pivot_table(index = df.index, columns = 'name', values = 'close')\n",
    "log_ret = np.log(df/df.shift(1))\n",
    "log_ret = log_ret.dropna(axis = 1, how = 'all').dropna(axis = 0, how = 'all')\n",
    "# exporting to a csv - run only if you need to, is used to ease calculations done in VS code\n",
    "# log_ret.to_csv(\"main.csv\")"
   ]
  },
  {
   "cell_type": "markdown",
   "metadata": {},
   "source": [
    "From here the calculations are done. "
   ]
  },
  {
   "cell_type": "code",
   "execution_count": 20,
   "metadata": {},
   "outputs": [
    {
     "name": "stdout",
     "output_type": "stream",
     "text": [
      "Wall time: 27.5 s\n"
     ]
    }
   ],
   "source": [
    "%%time\n",
    "random.seed(123)\n",
    "'''\n",
    "Run this only if you saved the log_ret dataframe to a csv,\n",
    "otherwise continue\n",
    "# log_ret = pd.read_csv(\"main.csv\", parse_dates = [\"date\"], index_col = 0)\n",
    "# log_ret = log_ret.dropna(axis = 1, how = \"all\").dropna(axis = 0, how = \"all\")\n",
    "'''\n",
    "# this is the variance, used in the for loop to calculate the volatility\n",
    "vol = log_ret.std()\n",
    "# init. empty data frame\n",
    "results = pd.DataFrame(columns = [\"Size\", \"Return\", \"Volatility\"])\n",
    "for i in range(10000):\n",
    "    '''\n",
    "    In this function we use random module to generate random integers (and list of integers)\n",
    "    to use along side the pandas .iloc method to get the right subset of randomly generated\n",
    "    portfolios\n",
    "    '''\n",
    "    # random size of portfolio between 1 and 30\n",
    "    randomcryptos = random.randint(1, 100)\n",
    "    # using randomcryptos to get same amount of random values between 1 and 2070\n",
    "    cryptos = random.sample(range(0,2070), randomcryptos)\n",
    "    # picking a random day\n",
    "    randomday = random.sample(range(0,698), 1)\n",
    "    # saving the size since that is one of our measures of volatility, i.e more cryptos = less vol.\n",
    "    size = len(cryptos)\n",
    "    # Calculating the mean return for said cryptos on said day\n",
    "    mean = log_ret.iloc[randomday, cryptos].mean(axis = 1)\n",
    "    # Calculating the std(volatility) for random cryptos \n",
    "    std = np.sqrt(vol.iloc[cryptos].sum())/len(cryptos)\n",
    "    #Append the results to the empty data frame\n",
    "    results = results.append({\"Size\": size, \"Return\": mean[0], \"Volatility\": std}, ignore_index = True)\n",
    "# df can be used for further ploting or calculation\n",
    "df = results.sort_values(by = \"Size\", ascending = False)\n",
    "# This is the answer to part 1, use for plotting and to generate describtive statistics\n",
    "df2 = df.groupby('Size').mean()"
   ]
  },
  {
   "cell_type": "code",
   "execution_count": 17,
   "metadata": {},
   "outputs": [
    {
     "data": {
      "image/png": "[encoded data removed]",
      "text/plain": [
       "<Figure size 432x288 with 1 Axes>"
      ]
     },
     "metadata": {
      "needs_background": "light"
     },
     "output_type": "display_data"
    }
   ],
   "source": [
    "'''\n",
    "Ploting volatility per portfolio size\n",
    "'''\n",
    "plt.plot(df2[\"Volatility\"])\n",
    "plt.title(\"Volatility per portfolio Size\")\n",
    "plt.xlabel(\"Portfolio size\")\n",
    "plt.ylabel(\"Volatility\")\n",
    "# if you have mpld3 installed, then use mpld3.display instead for interactive\n",
    "# version of the matplotlib graph\n",
    "plt.show()\n",
    "#mpld3.display()"
   ]
  },
  {
   "cell_type": "code",
   "execution_count": 18,
   "metadata": {},
   "outputs": [
    {
     "data": {
      "application/vnd.plotly.v1+json": {
       "config": {
        "plotlyServerURL": "https://plot.ly"
       },
       "data": [
        {
         "hoverlabel": {
          "namelength": 0
         },
         "hovertemplate": "x=%{x}<br>Volatility=%{y}",
         "legendgroup": "",
         "line": {
          "color": "#636efa",
          "dash": "solid"
         },
         "mode": "lines",
         "name": "",
         "showlegend": false,
         "type": "scatter",
         "x": [
          1,
          2,
          3,
          4,
          5,
          6,
          7,
          8,
          9,
          10,
          11,
          12,
          13,
          14,
          15,
          16,
          17,
          18,
          19,
          20,
          21,
          22,
          23,
          24,
          25,
          26,
          27,
          28,
          29,
          30,
          31,
          32,
          33,
          34,
          35,
          36,
          37,
          38,
          39,
          40,
          41,
          42,
          43,
          44,
          45,
          46,
          47,
          48,
          49,
          50,
          51,
          52,
          53,
          54,
          55,
          56,
          57,
          58,
          59,
          60,
          61,
          62,
          63,
          64,
          65,
          66,
          67,
          68,
          69,
          70,
          71,
          72,
          73,
          74,
          75,
          76,
          77,
          78,
          79,
          80,
          81,
          82,
          83,
          84,
          85,
          86,
          87,
          88,
          89,
          90,
          91,
          92,
          93,
          94,
          95,
          96,
          97,
          98,
          99,
          100
         ],
         "xaxis": "x",
         "y": [
          0.4023500332990994,
          0.28454626122996374,
          0.23354146835658438,
          0.20342405767034658,
          0.1825781539424885,
          0.1680408039588912,
          0.15629236835468055,
          0.145315299007454,
          0.1374857001400512,
          0.13066372404444368,
          0.12353274025865403,
          0.11948550195481178,
          0.11430387280661465,
          0.11021100812733242,
          0.10656129765120421,
          0.10297022035716126,
          0.09966121060375867,
          0.09746810015614424,
          0.09490586725840416,
          0.0924535977347704,
          0.0900850530253352,
          0.08795172615574866,
          0.08614310631216862,
          0.08453198268880971,
          0.08247627224762874,
          0.08083904441942105,
          0.07963644267497558,
          0.07825723963994453,
          0.0768745564058003,
          0.0754064577165924,
          0.07443957784819977,
          0.07281205910368486,
          0.07196510273549443,
          0.07084038682808555,
          0.06976442111328492,
          0.06898752918072455,
          0.06797433791985862,
          0.06713463801115194,
          0.06612153966401153,
          0.06543771188898731,
          0.06466908362964366,
          0.06391532043349156,
          0.06313704486604386,
          0.06232628775865155,
          0.061506008306856964,
          0.060846973489590284,
          0.0603024640547437,
          0.059702061934135325,
          0.05903260296252491,
          0.05853402540570317,
          0.058030611013392644,
          0.057231604750991226,
          0.05694485780350817,
          0.056311489397712695,
          0.05575796388062937,
          0.055322088392057295,
          0.0547482339215017,
          0.054199884161005206,
          0.054009799373037334,
          0.05329800576775688,
          0.05290948771100888,
          0.052533969827566425,
          0.05216325084868644,
          0.05176869462607994,
          0.051133552827905375,
          0.05099984286307237,
          0.050534906641115186,
          0.05021424188431563,
          0.04978326832439203,
          0.0495132217682994,
          0.04918564211221084,
          0.04878421317761188,
          0.04842610290797487,
          0.04807877279764474,
          0.04786672560082493,
          0.047467573158052244,
          0.047178054177096494,
          0.04676735219306326,
          0.04658355937937842,
          0.04639031651720837,
          0.0459957414176799,
          0.0457832199902174,
          0.04542750071415901,
          0.045209575871780344,
          0.04488408411028136,
          0.04468872414252107,
          0.044340480354468,
          0.044160595226325705,
          0.0438504112740763,
          0.0437040548527797,
          0.043320574134742766,
          0.04310903977044903,
          0.04297081591472049,
          0.04272395146155845,
          0.042417240064277786,
          0.04223385986458054,
          0.04205493508263307,
          0.04175381149633288,
          0.041580987448308515,
          0.04138175705485643
         ],
         "yaxis": "y"
        }
       ],
       "layout": {
        "legend": {
         "tracegroupgap": 0
        },
        "margin": {
         "t": 60
        },
        "template": {
         "data": {
          "bar": [
           {
            "error_x": {
             "color": "#2a3f5f"
            },
            "error_y": {
             "color": "#2a3f5f"
            },
            "marker": {
             "line": {
              "color": "#E5ECF6",
              "width": 0.5
             }
            },
            "type": "bar"
           }
          ],
          "barpolar": [
           {
            "marker": {
             "line": {
              "color": "#E5ECF6",
              "width": 0.5
             }
            },
            "type": "barpolar"
           }
          ],
          "carpet": [
           {
            "aaxis": {
             "endlinecolor": "#2a3f5f",
             "gridcolor": "white",
             "linecolor": "white",
             "minorgridcolor": "white",
             "startlinecolor": "#2a3f5f"
            },
            "baxis": {
             "endlinecolor": "#2a3f5f",
             "gridcolor": "white",
             "linecolor": "white",
             "minorgridcolor": "white",
             "startlinecolor": "#2a3f5f"
            },
            "type": "carpet"
           }
          ],
          "choropleth": [
           {
            "colorbar": {
             "outlinewidth": 0,
             "ticks": ""
            },
            "type": "choropleth"
           }
          ],
          "contour": [
           {
            "colorbar": {
             "outlinewidth": 0,
             "ticks": ""
            },
            "colorscale": [
             [
              0,
              "#0d0887"
             ],
             [
              0.1111111111111111,
              "#46039f"
             ],
             [
              0.2222222222222222,
              "#7201a8"
             ],
             [
              0.3333333333333333,
              "#9c179e"
             ],
             [
              0.4444444444444444,
              "#bd3786"
             ],
             [
              0.5555555555555556,
              "#d8576b"
             ],
             [
              0.6666666666666666,
              "#ed7953"
             ],
             [
              0.7777777777777778,
              "#fb9f3a"
             ],
             [
              0.8888888888888888,
              "#fdca26"
             ],
             [
              1,
              "#f0f921"
             ]
            ],
            "type": "contour"
           }
          ],
          "contourcarpet": [
           {
            "colorbar": {
             "outlinewidth": 0,
             "ticks": ""
            },
            "type": "contourcarpet"
           }
          ],
          "heatmap": [
           {
            "colorbar": {
             "outlinewidth": 0,
             "ticks": ""
            },
            "colorscale": [
             [
              0,
              "#0d0887"
             ],
             [
              0.1111111111111111,
              "#46039f"
             ],
             [
              0.2222222222222222,
              "#7201a8"
             ],
             [
              0.3333333333333333,
              "#9c179e"
             ],
             [
              0.4444444444444444,
              "#bd3786"
             ],
             [
              0.5555555555555556,
              "#d8576b"
             ],
             [
              0.6666666666666666,
              "#ed7953"
             ],
             [
              0.7777777777777778,
              "#fb9f3a"
             ],
             [
              0.8888888888888888,
              "#fdca26"
             ],
             [
              1,
              "#f0f921"
             ]
            ],
            "type": "heatmap"
           }
          ],
          "heatmapgl": [
           {
            "colorbar": {
             "outlinewidth": 0,
             "ticks": ""
            },
            "colorscale": [
             [
              0,
              "#0d0887"
             ],
             [
              0.1111111111111111,
              "#46039f"
             ],
             [
              0.2222222222222222,
              "#7201a8"
             ],
             [
              0.3333333333333333,
              "#9c179e"
             ],
             [
              0.4444444444444444,
              "#bd3786"
             ],
             [
              0.5555555555555556,
              "#d8576b"
             ],
             [
              0.6666666666666666,
              "#ed7953"
             ],
             [
              0.7777777777777778,
              "#fb9f3a"
             ],
             [
              0.8888888888888888,
              "#fdca26"
             ],
             [
              1,
              "#f0f921"
             ]
            ],
            "type": "heatmapgl"
           }
          ],
          "histogram": [
           {
            "marker": {
             "colorbar": {
              "outlinewidth": 0,
              "ticks": ""
             }
            },
            "type": "histogram"
           }
          ],
          "histogram2d": [
           {
            "colorbar": {
             "outlinewidth": 0,
             "ticks": ""
            },
            "colorscale": [
             [
              0,
              "#0d0887"
             ],
             [
              0.1111111111111111,
              "#46039f"
             ],
             [
              0.2222222222222222,
              "#7201a8"
             ],
             [
              0.3333333333333333,
              "#9c179e"
             ],
             [
              0.4444444444444444,
              "#bd3786"
             ],
             [
              0.5555555555555556,
              "#d8576b"
             ],
             [
              0.6666666666666666,
              "#ed7953"
             ],
             [
              0.7777777777777778,
              "#fb9f3a"
             ],
             [
              0.8888888888888888,
              "#fdca26"
             ],
             [
              1,
              "#f0f921"
             ]
            ],
            "type": "histogram2d"
           }
          ],
          "histogram2dcontour": [
           {
            "colorbar": {
             "outlinewidth": 0,
             "ticks": ""
            },
            "colorscale": [
             [
              0,
              "#0d0887"
             ],
             [
              0.1111111111111111,
              "#46039f"
             ],
             [
              0.2222222222222222,
              "#7201a8"
             ],
             [
              0.3333333333333333,
              "#9c179e"
             ],
             [
              0.4444444444444444,
              "#bd3786"
             ],
             [
              0.5555555555555556,
              "#d8576b"
             ],
             [
              0.6666666666666666,
              "#ed7953"
             ],
             [
              0.7777777777777778,
              "#fb9f3a"
             ],
             [
              0.8888888888888888,
              "#fdca26"
             ],
             [
              1,
              "#f0f921"
             ]
            ],
            "type": "histogram2dcontour"
           }
          ],
          "mesh3d": [
           {
            "colorbar": {
             "outlinewidth": 0,
             "ticks": ""
            },
            "type": "mesh3d"
           }
          ],
          "parcoords": [
           {
            "line": {
             "colorbar": {
              "outlinewidth": 0,
              "ticks": ""
             }
            },
            "type": "parcoords"
           }
          ],
          "pie": [
           {
            "automargin": true,
            "type": "pie"
           }
          ],
          "scatter": [
           {
            "marker": {
             "colorbar": {
              "outlinewidth": 0,
              "ticks": ""
             }
            },
            "type": "scatter"
           }
          ],
          "scatter3d": [
           {
            "line": {
             "colorbar": {
              "outlinewidth": 0,
              "ticks": ""
             }
            },
            "marker": {
             "colorbar": {
              "outlinewidth": 0,
              "ticks": ""
             }
            },
            "type": "scatter3d"
           }
          ],
          "scattercarpet": [
           {
            "marker": {
             "colorbar": {
              "outlinewidth": 0,
              "ticks": ""
             }
            },
            "type": "scattercarpet"
           }
          ],
          "scattergeo": [
           {
            "marker": {
             "colorbar": {
              "outlinewidth": 0,
              "ticks": ""
             }
            },
            "type": "scattergeo"
           }
          ],
          "scattergl": [
           {
            "marker": {
             "colorbar": {
              "outlinewidth": 0,
              "ticks": ""
             }
            },
            "type": "scattergl"
           }
          ],
          "scattermapbox": [
           {
            "marker": {
             "colorbar": {
              "outlinewidth": 0,
              "ticks": ""
             }
            },
            "type": "scattermapbox"
           }
          ],
          "scatterpolar": [
           {
            "marker": {
             "colorbar": {
              "outlinewidth": 0,
              "ticks": ""
             }
            },
            "type": "scatterpolar"
           }
          ],
          "scatterpolargl": [
           {
            "marker": {
             "colorbar": {
              "outlinewidth": 0,
              "ticks": ""
             }
            },
            "type": "scatterpolargl"
           }
          ],
          "scatterternary": [
           {
            "marker": {
             "colorbar": {
              "outlinewidth": 0,
              "ticks": ""
             }
            },
            "type": "scatterternary"
           }
          ],
          "surface": [
           {
            "colorbar": {
             "outlinewidth": 0,
             "ticks": ""
            },
            "colorscale": [
             [
              0,
              "#0d0887"
             ],
             [
              0.1111111111111111,
              "#46039f"
             ],
             [
              0.2222222222222222,
              "#7201a8"
             ],
             [
              0.3333333333333333,
              "#9c179e"
             ],
             [
              0.4444444444444444,
              "#bd3786"
             ],
             [
              0.5555555555555556,
              "#d8576b"
             ],
             [
              0.6666666666666666,
              "#ed7953"
             ],
             [
              0.7777777777777778,
              "#fb9f3a"
             ],
             [
              0.8888888888888888,
              "#fdca26"
             ],
             [
              1,
              "#f0f921"
             ]
            ],
            "type": "surface"
           }
          ],
          "table": [
           {
            "cells": {
             "fill": {
              "color": "#EBF0F8"
             },
             "line": {
              "color": "white"
             }
            },
            "header": {
             "fill": {
              "color": "#C8D4E3"
             },
             "line": {
              "color": "white"
             }
            },
            "type": "table"
           }
          ]
         },
         "layout": {
          "annotationdefaults": {
           "arrowcolor": "#2a3f5f",
           "arrowhead": 0,
           "arrowwidth": 1
          },
          "coloraxis": {
           "colorbar": {
            "outlinewidth": 0,
            "ticks": ""
           }
          },
          "colorscale": {
           "diverging": [
            [
             0,
             "#8e0152"
            ],
            [
             0.1,
             "#c51b7d"
            ],
            [
             0.2,
             "#de77ae"
            ],
            [
             0.3,
             "#f1b6da"
            ],
            [
             0.4,
             "#fde0ef"
            ],
            [
             0.5,
             "#f7f7f7"
            ],
            [
             0.6,
             "#e6f5d0"
            ],
            [
             0.7,
             "#b8e186"
            ],
            [
             0.8,
             "#7fbc41"
            ],
            [
             0.9,
             "#4d9221"
            ],
            [
             1,
             "#276419"
            ]
           ],
           "sequential": [
            [
             0,
             "#0d0887"
            ],
            [
             0.1111111111111111,
             "#46039f"
            ],
            [
             0.2222222222222222,
             "#7201a8"
            ],
            [
             0.3333333333333333,
             "#9c179e"
            ],
            [
             0.4444444444444444,
             "#bd3786"
            ],
            [
             0.5555555555555556,
             "#d8576b"
            ],
            [
             0.6666666666666666,
             "#ed7953"
            ],
            [
             0.7777777777777778,
             "#fb9f3a"
            ],
            [
             0.8888888888888888,
             "#fdca26"
            ],
            [
             1,
             "#f0f921"
            ]
           ],
           "sequentialminus": [
            [
             0,
             "#0d0887"
            ],
            [
             0.1111111111111111,
             "#46039f"
            ],
            [
             0.2222222222222222,
             "#7201a8"
            ],
            [
             0.3333333333333333,
             "#9c179e"
            ],
            [
             0.4444444444444444,
             "#bd3786"
            ],
            [
             0.5555555555555556,
             "#d8576b"
            ],
            [
             0.6666666666666666,
             "#ed7953"
            ],
            [
             0.7777777777777778,
             "#fb9f3a"
            ],
            [
             0.8888888888888888,
             "#fdca26"
            ],
            [
             1,
             "#f0f921"
            ]
           ]
          },
          "colorway": [
           "#636efa",
           "#EF553B",
           "#00cc96",
           "#ab63fa",
           "#FFA15A",
           "#19d3f3",
           "#FF6692",
           "#B6E880",
           "#FF97FF",
           "#FECB52"
          ],
          "font": {
           "color": "#2a3f5f"
          },
          "geo": {
           "bgcolor": "white",
           "lakecolor": "white",
           "landcolor": "#E5ECF6",
           "showlakes": true,
           "showland": true,
           "subunitcolor": "white"
          },
          "hoverlabel": {
           "align": "left"
          },
          "hovermode": "closest",
          "mapbox": {
           "style": "light"
          },
          "paper_bgcolor": "white",
          "plot_bgcolor": "#E5ECF6",
          "polar": {
           "angularaxis": {
            "gridcolor": "white",
            "linecolor": "white",
            "ticks": ""
           },
           "bgcolor": "#E5ECF6",
           "radialaxis": {
            "gridcolor": "white",
            "linecolor": "white",
            "ticks": ""
           }
          },
          "scene": {
           "xaxis": {
            "backgroundcolor": "#E5ECF6",
            "gridcolor": "white",
            "gridwidth": 2,
            "linecolor": "white",
            "showbackground": true,
            "ticks": "",
            "zerolinecolor": "white"
           },
           "yaxis": {
            "backgroundcolor": "#E5ECF6",
            "gridcolor": "white",
            "gridwidth": 2,
            "linecolor": "white",
            "showbackground": true,
            "ticks": "",
            "zerolinecolor": "white"
           },
           "zaxis": {
            "backgroundcolor": "#E5ECF6",
            "gridcolor": "white",
            "gridwidth": 2,
            "linecolor": "white",
            "showbackground": true,
            "ticks": "",
            "zerolinecolor": "white"
           }
          },
          "shapedefaults": {
           "line": {
            "color": "#2a3f5f"
           }
          },
          "ternary": {
           "aaxis": {
            "gridcolor": "white",
            "linecolor": "white",
            "ticks": ""
           },
           "baxis": {
            "gridcolor": "white",
            "linecolor": "white",
            "ticks": ""
           },
           "bgcolor": "#E5ECF6",
           "caxis": {
            "gridcolor": "white",
            "linecolor": "white",
            "ticks": ""
           }
          },
          "title": {
           "x": 0.05
          },
          "xaxis": {
           "automargin": true,
           "gridcolor": "white",
           "linecolor": "white",
           "ticks": "",
           "title": {
            "standoff": 15
           },
           "zerolinecolor": "white",
           "zerolinewidth": 2
          },
          "yaxis": {
           "automargin": true,
           "gridcolor": "white",
           "linecolor": "white",
           "ticks": "",
           "title": {
            "standoff": 15
           },
           "zerolinecolor": "white",
           "zerolinewidth": 2
          }
         }
        },
        "title": {
         "text": "Volatility per Portfolio Size"
        },
        "xaxis": {
         "anchor": "y",
         "domain": [
          0,
          1
         ],
         "title": {
          "text": "Size of Portfolios"
         }
        },
        "yaxis": {
         "anchor": "x",
         "domain": [
          0,
          1
         ],
         "title": {
          "text": "Volatility"
         }
        }
       }
      },
      "text/html": [
       "<div>\n",
       "        \n",
       "        \n",
       "            <div id=\"71dd02ff-1c81-4ee1-b912-741638768632\" class=\"plotly-graph-div\" style=\"height:525px; width:100%;\"></div>\n",
       "            <script type=\"text/javascript\">\n",
       "                require([\"plotly\"], function(Plotly) {\n",
       "                    window.PLOTLYENV=window.PLOTLYENV || {};\n",
       "                    \n",
       "                if (document.getElementById(\"71dd02ff-1c81-4ee1-b912-741638768632\")) {\n",
       "                    Plotly.newPlot(\n",
       "                        '71dd02ff-1c81-4ee1-b912-741638768632',\n",
       "                        [{\"hoverlabel\": {\"namelength\": 0}, \"hovertemplate\": \"x=%{x}<br>Volatility=%{y}\", \"legendgroup\": \"\", \"line\": {\"color\": \"#636efa\", \"dash\": \"solid\"}, \"mode\": \"lines\", \"name\": \"\", \"showlegend\": false, \"type\": \"scatter\", \"x\": [1.0, 2.0, 3.0, 4.0, 5.0, 6.0, 7.0, 8.0, 9.0, 10.0, 11.0, 12.0, 13.0, 14.0, 15.0, 16.0, 17.0, 18.0, 19.0, 20.0, 21.0, 22.0, 23.0, 24.0, 25.0, 26.0, 27.0, 28.0, 29.0, 30.0, 31.0, 32.0, 33.0, 34.0, 35.0, 36.0, 37.0, 38.0, 39.0, 40.0, 41.0, 42.0, 43.0, 44.0, 45.0, 46.0, 47.0, 48.0, 49.0, 50.0, 51.0, 52.0, 53.0, 54.0, 55.0, 56.0, 57.0, 58.0, 59.0, 60.0, 61.0, 62.0, 63.0, 64.0, 65.0, 66.0, 67.0, 68.0, 69.0, 70.0, 71.0, 72.0, 73.0, 74.0, 75.0, 76.0, 77.0, 78.0, 79.0, 80.0, 81.0, 82.0, 83.0, 84.0, 85.0, 86.0, 87.0, 88.0, 89.0, 90.0, 91.0, 92.0, 93.0, 94.0, 95.0, 96.0, 97.0, 98.0, 99.0, 100.0], \"xaxis\": \"x\", \"y\": [0.4023500332990994, 0.28454626122996374, 0.23354146835658438, 0.20342405767034658, 0.1825781539424885, 0.1680408039588912, 0.15629236835468055, 0.145315299007454, 0.1374857001400512, 0.13066372404444368, 0.12353274025865403, 0.11948550195481178, 0.11430387280661465, 0.11021100812733242, 0.10656129765120421, 0.10297022035716126, 0.09966121060375867, 0.09746810015614424, 0.09490586725840416, 0.0924535977347704, 0.0900850530253352, 0.08795172615574866, 0.08614310631216862, 0.08453198268880971, 0.08247627224762874, 0.08083904441942105, 0.07963644267497558, 0.07825723963994453, 0.0768745564058003, 0.0754064577165924, 0.07443957784819977, 0.07281205910368486, 0.07196510273549443, 0.07084038682808555, 0.06976442111328492, 0.06898752918072455, 0.06797433791985862, 0.06713463801115194, 0.06612153966401153, 0.06543771188898731, 0.06466908362964366, 0.06391532043349156, 0.06313704486604386, 0.06232628775865155, 0.061506008306856964, 0.060846973489590284, 0.0603024640547437, 0.059702061934135325, 0.05903260296252491, 0.05853402540570317, 0.058030611013392644, 0.057231604750991226, 0.05694485780350817, 0.056311489397712695, 0.05575796388062937, 0.055322088392057295, 0.0547482339215017, 0.054199884161005206, 0.054009799373037334, 0.05329800576775688, 0.05290948771100888, 0.052533969827566425, 0.05216325084868644, 0.05176869462607994, 0.051133552827905375, 0.05099984286307237, 0.050534906641115186, 0.05021424188431563, 0.04978326832439203, 0.0495132217682994, 0.04918564211221084, 0.04878421317761188, 0.04842610290797487, 0.04807877279764474, 0.04786672560082493, 0.047467573158052244, 0.047178054177096494, 0.04676735219306326, 0.04658355937937842, 0.04639031651720837, 0.0459957414176799, 0.0457832199902174, 0.04542750071415901, 0.045209575871780344, 0.04488408411028136, 0.04468872414252107, 0.044340480354468, 0.044160595226325705, 0.0438504112740763, 0.0437040548527797, 0.043320574134742766, 0.04310903977044903, 0.04297081591472049, 0.04272395146155845, 0.042417240064277786, 0.04223385986458054, 0.04205493508263307, 0.04175381149633288, 0.041580987448308515, 0.04138175705485643], \"yaxis\": \"y\"}],\n",
       "                        {\"legend\": {\"tracegroupgap\": 0}, \"margin\": {\"t\": 60}, \"template\": {\"data\": {\"bar\": [{\"error_x\": {\"color\": \"#2a3f5f\"}, \"error_y\": {\"color\": \"#2a3f5f\"}, \"marker\": {\"line\": {\"color\": \"#E5ECF6\", \"width\": 0.5}}, \"type\": \"bar\"}], \"barpolar\": [{\"marker\": {\"line\": {\"color\": \"#E5ECF6\", \"width\": 0.5}}, \"type\": \"barpolar\"}], \"carpet\": [{\"aaxis\": {\"endlinecolor\": \"#2a3f5f\", \"gridcolor\": \"white\", \"linecolor\": \"white\", \"minorgridcolor\": \"white\", \"startlinecolor\": \"#2a3f5f\"}, \"baxis\": {\"endlinecolor\": \"#2a3f5f\", \"gridcolor\": \"white\", \"linecolor\": \"white\", \"minorgridcolor\": \"white\", \"startlinecolor\": \"#2a3f5f\"}, \"type\": \"carpet\"}], \"choropleth\": [{\"colorbar\": {\"outlinewidth\": 0, \"ticks\": \"\"}, \"type\": \"choropleth\"}], \"contour\": [{\"colorbar\": {\"outlinewidth\": 0, \"ticks\": \"\"}, \"colorscale\": [[0.0, \"#0d0887\"], [0.1111111111111111, \"#46039f\"], [0.2222222222222222, \"#7201a8\"], [0.3333333333333333, \"#9c179e\"], [0.4444444444444444, \"#bd3786\"], [0.5555555555555556, \"#d8576b\"], [0.6666666666666666, \"#ed7953\"], [0.7777777777777778, \"#fb9f3a\"], [0.8888888888888888, \"#fdca26\"], [1.0, \"#f0f921\"]], \"type\": \"contour\"}], \"contourcarpet\": [{\"colorbar\": {\"outlinewidth\": 0, \"ticks\": \"\"}, \"type\": \"contourcarpet\"}], \"heatmap\": [{\"colorbar\": {\"outlinewidth\": 0, \"ticks\": \"\"}, \"colorscale\": [[0.0, \"#0d0887\"], [0.1111111111111111, \"#46039f\"], [0.2222222222222222, \"#7201a8\"], [0.3333333333333333, \"#9c179e\"], [0.4444444444444444, \"#bd3786\"], [0.5555555555555556, \"#d8576b\"], [0.6666666666666666, \"#ed7953\"], [0.7777777777777778, \"#fb9f3a\"], [0.8888888888888888, \"#fdca26\"], [1.0, \"#f0f921\"]], \"type\": \"heatmap\"}], \"heatmapgl\": [{\"colorbar\": {\"outlinewidth\": 0, \"ticks\": \"\"}, \"colorscale\": [[0.0, \"#0d0887\"], [0.1111111111111111, \"#46039f\"], [0.2222222222222222, \"#7201a8\"], [0.3333333333333333, \"#9c179e\"], [0.4444444444444444, \"#bd3786\"], [0.5555555555555556, \"#d8576b\"], [0.6666666666666666, \"#ed7953\"], [0.7777777777777778, \"#fb9f3a\"], [0.8888888888888888, \"#fdca26\"], [1.0, \"#f0f921\"]], \"type\": \"heatmapgl\"}], \"histogram\": [{\"marker\": {\"colorbar\": {\"outlinewidth\": 0, \"ticks\": \"\"}}, \"type\": \"histogram\"}], \"histogram2d\": [{\"colorbar\": {\"outlinewidth\": 0, \"ticks\": \"\"}, \"colorscale\": [[0.0, \"#0d0887\"], [0.1111111111111111, \"#46039f\"], [0.2222222222222222, \"#7201a8\"], [0.3333333333333333, \"#9c179e\"], [0.4444444444444444, \"#bd3786\"], [0.5555555555555556, \"#d8576b\"], [0.6666666666666666, \"#ed7953\"], [0.7777777777777778, \"#fb9f3a\"], [0.8888888888888888, \"#fdca26\"], [1.0, \"#f0f921\"]], \"type\": \"histogram2d\"}], \"histogram2dcontour\": [{\"colorbar\": {\"outlinewidth\": 0, \"ticks\": \"\"}, \"colorscale\": [[0.0, \"#0d0887\"], [0.1111111111111111, \"#46039f\"], [0.2222222222222222, \"#7201a8\"], [0.3333333333333333, \"#9c179e\"], [0.4444444444444444, \"#bd3786\"], [0.5555555555555556, \"#d8576b\"], [0.6666666666666666, \"#ed7953\"], [0.7777777777777778, \"#fb9f3a\"], [0.8888888888888888, \"#fdca26\"], [1.0, \"#f0f921\"]], \"type\": \"histogram2dcontour\"}], \"mesh3d\": [{\"colorbar\": {\"outlinewidth\": 0, \"ticks\": \"\"}, \"type\": \"mesh3d\"}], \"parcoords\": [{\"line\": {\"colorbar\": {\"outlinewidth\": 0, \"ticks\": \"\"}}, \"type\": \"parcoords\"}], \"pie\": [{\"automargin\": true, \"type\": \"pie\"}], \"scatter\": [{\"marker\": {\"colorbar\": {\"outlinewidth\": 0, \"ticks\": \"\"}}, \"type\": \"scatter\"}], \"scatter3d\": [{\"line\": {\"colorbar\": {\"outlinewidth\": 0, \"ticks\": \"\"}}, \"marker\": {\"colorbar\": {\"outlinewidth\": 0, \"ticks\": \"\"}}, \"type\": \"scatter3d\"}], \"scattercarpet\": [{\"marker\": {\"colorbar\": {\"outlinewidth\": 0, \"ticks\": \"\"}}, \"type\": \"scattercarpet\"}], \"scattergeo\": [{\"marker\": {\"colorbar\": {\"outlinewidth\": 0, \"ticks\": \"\"}}, \"type\": \"scattergeo\"}], \"scattergl\": [{\"marker\": {\"colorbar\": {\"outlinewidth\": 0, \"ticks\": \"\"}}, \"type\": \"scattergl\"}], \"scattermapbox\": [{\"marker\": {\"colorbar\": {\"outlinewidth\": 0, \"ticks\": \"\"}}, \"type\": \"scattermapbox\"}], \"scatterpolar\": [{\"marker\": {\"colorbar\": {\"outlinewidth\": 0, \"ticks\": \"\"}}, \"type\": \"scatterpolar\"}], \"scatterpolargl\": [{\"marker\": {\"colorbar\": {\"outlinewidth\": 0, \"ticks\": \"\"}}, \"type\": \"scatterpolargl\"}], \"scatterternary\": [{\"marker\": {\"colorbar\": {\"outlinewidth\": 0, \"ticks\": \"\"}}, \"type\": \"scatterternary\"}], \"surface\": [{\"colorbar\": {\"outlinewidth\": 0, \"ticks\": \"\"}, \"colorscale\": [[0.0, \"#0d0887\"], [0.1111111111111111, \"#46039f\"], [0.2222222222222222, \"#7201a8\"], [0.3333333333333333, \"#9c179e\"], [0.4444444444444444, \"#bd3786\"], [0.5555555555555556, \"#d8576b\"], [0.6666666666666666, \"#ed7953\"], [0.7777777777777778, \"#fb9f3a\"], [0.8888888888888888, \"#fdca26\"], [1.0, \"#f0f921\"]], \"type\": \"surface\"}], \"table\": [{\"cells\": {\"fill\": {\"color\": \"#EBF0F8\"}, \"line\": {\"color\": \"white\"}}, \"header\": {\"fill\": {\"color\": \"#C8D4E3\"}, \"line\": {\"color\": \"white\"}}, \"type\": \"table\"}]}, \"layout\": {\"annotationdefaults\": {\"arrowcolor\": \"#2a3f5f\", \"arrowhead\": 0, \"arrowwidth\": 1}, \"coloraxis\": {\"colorbar\": {\"outlinewidth\": 0, \"ticks\": \"\"}}, \"colorscale\": {\"diverging\": [[0, \"#8e0152\"], [0.1, \"#c51b7d\"], [0.2, \"#de77ae\"], [0.3, \"#f1b6da\"], [0.4, \"#fde0ef\"], [0.5, \"#f7f7f7\"], [0.6, \"#e6f5d0\"], [0.7, \"#b8e186\"], [0.8, \"#7fbc41\"], [0.9, \"#4d9221\"], [1, \"#276419\"]], \"sequential\": [[0.0, \"#0d0887\"], [0.1111111111111111, \"#46039f\"], [0.2222222222222222, \"#7201a8\"], [0.3333333333333333, \"#9c179e\"], [0.4444444444444444, \"#bd3786\"], [0.5555555555555556, \"#d8576b\"], [0.6666666666666666, \"#ed7953\"], [0.7777777777777778, \"#fb9f3a\"], [0.8888888888888888, \"#fdca26\"], [1.0, \"#f0f921\"]], \"sequentialminus\": [[0.0, \"#0d0887\"], [0.1111111111111111, \"#46039f\"], [0.2222222222222222, \"#7201a8\"], [0.3333333333333333, \"#9c179e\"], [0.4444444444444444, \"#bd3786\"], [0.5555555555555556, \"#d8576b\"], [0.6666666666666666, \"#ed7953\"], [0.7777777777777778, \"#fb9f3a\"], [0.8888888888888888, \"#fdca26\"], [1.0, \"#f0f921\"]]}, \"colorway\": [\"#636efa\", \"#EF553B\", \"#00cc96\", \"#ab63fa\", \"#FFA15A\", \"#19d3f3\", \"#FF6692\", \"#B6E880\", \"#FF97FF\", \"#FECB52\"], \"font\": {\"color\": \"#2a3f5f\"}, \"geo\": {\"bgcolor\": \"white\", \"lakecolor\": \"white\", \"landcolor\": \"#E5ECF6\", \"showlakes\": true, \"showland\": true, \"subunitcolor\": \"white\"}, \"hoverlabel\": {\"align\": \"left\"}, \"hovermode\": \"closest\", \"mapbox\": {\"style\": \"light\"}, \"paper_bgcolor\": \"white\", \"plot_bgcolor\": \"#E5ECF6\", \"polar\": {\"angularaxis\": {\"gridcolor\": \"white\", \"linecolor\": \"white\", \"ticks\": \"\"}, \"bgcolor\": \"#E5ECF6\", \"radialaxis\": {\"gridcolor\": \"white\", \"linecolor\": \"white\", \"ticks\": \"\"}}, \"scene\": {\"xaxis\": {\"backgroundcolor\": \"#E5ECF6\", \"gridcolor\": \"white\", \"gridwidth\": 2, \"linecolor\": \"white\", \"showbackground\": true, \"ticks\": \"\", \"zerolinecolor\": \"white\"}, \"yaxis\": {\"backgroundcolor\": \"#E5ECF6\", \"gridcolor\": \"white\", \"gridwidth\": 2, \"linecolor\": \"white\", \"showbackground\": true, \"ticks\": \"\", \"zerolinecolor\": \"white\"}, \"zaxis\": {\"backgroundcolor\": \"#E5ECF6\", \"gridcolor\": \"white\", \"gridwidth\": 2, \"linecolor\": \"white\", \"showbackground\": true, \"ticks\": \"\", \"zerolinecolor\": \"white\"}}, \"shapedefaults\": {\"line\": {\"color\": \"#2a3f5f\"}}, \"ternary\": {\"aaxis\": {\"gridcolor\": \"white\", \"linecolor\": \"white\", \"ticks\": \"\"}, \"baxis\": {\"gridcolor\": \"white\", \"linecolor\": \"white\", \"ticks\": \"\"}, \"bgcolor\": \"#E5ECF6\", \"caxis\": {\"gridcolor\": \"white\", \"linecolor\": \"white\", \"ticks\": \"\"}}, \"title\": {\"x\": 0.05}, \"xaxis\": {\"automargin\": true, \"gridcolor\": \"white\", \"linecolor\": \"white\", \"ticks\": \"\", \"title\": {\"standoff\": 15}, \"zerolinecolor\": \"white\", \"zerolinewidth\": 2}, \"yaxis\": {\"automargin\": true, \"gridcolor\": \"white\", \"linecolor\": \"white\", \"ticks\": \"\", \"title\": {\"standoff\": 15}, \"zerolinecolor\": \"white\", \"zerolinewidth\": 2}}}, \"title\": {\"text\": \"Volatility per Portfolio Size\"}, \"xaxis\": {\"anchor\": \"y\", \"domain\": [0.0, 1.0], \"title\": {\"text\": \"Size of Portfolios\"}}, \"yaxis\": {\"anchor\": \"x\", \"domain\": [0.0, 1.0], \"title\": {\"text\": \"Volatility\"}}},\n",
       "                        {\"responsive\": true}\n",
       "                    ).then(function(){\n",
       "                            \n",
       "var gd = document.getElementById('71dd02ff-1c81-4ee1-b912-741638768632');\n",
       "var x = new MutationObserver(function (mutations, observer) {{\n",
       "        var display = window.getComputedStyle(gd).display;\n",
       "        if (!display || display === 'none') {{\n",
       "            console.log([gd, 'removed!']);\n",
       "            Plotly.purge(gd);\n",
       "            observer.disconnect();\n",
       "        }}\n",
       "}});\n",
       "\n",
       "// Listen for the removal of the full notebook cells\n",
       "var notebookContainer = gd.closest('#notebook-container');\n",
       "if (notebookContainer) {{\n",
       "    x.observe(notebookContainer, {childList: true});\n",
       "}}\n",
       "\n",
       "// Listen for the clearing of the current output cell\n",
       "var outputEl = gd.closest('.output');\n",
       "if (outputEl) {{\n",
       "    x.observe(outputEl, {childList: true});\n",
       "}}\n",
       "\n",
       "                        })\n",
       "                };\n",
       "                });\n",
       "            </script>\n",
       "        </div>"
      ]
     },
     "metadata": {},
     "output_type": "display_data"
    }
   ],
   "source": [
    "'''\n",
    "For more advanced interactive graph uncomment this lower part and run.\n",
    "The plotly module is required however. \n",
    "'''\n",
    "fig = px.line(df2, x=df2.index, y=\"Volatility\")\n",
    "fig.update_layout(title='Volatility per Portfolio Size',\n",
    "                    xaxis_title='Size of Portfolios',\n",
    "                    yaxis_title='Volatility')\n",
    "fig.show()"
   ]
  },
  {
   "cell_type": "code",
   "execution_count": 6,
   "metadata": {},
   "outputs": [
    {
     "name": "stdout",
     "output_type": "stream",
     "text": [
      "Return descriptive statistics\n",
      "count    100.000000\n",
      "mean      -0.001157\n",
      "std        0.012851\n",
      "min       -0.042097\n",
      "25%       -0.009994\n",
      "50%       -0.001647\n",
      "75%        0.006555\n",
      "max        0.033716\n",
      "Name: Return, dtype: float64\n",
      "\n",
      "================================================\n",
      "\n",
      "Volatility descriptive statistics\n",
      "count    100.000000\n",
      "mean       0.076636\n",
      "std        0.054110\n",
      "min        0.041320\n",
      "25%        0.047443\n",
      "50%        0.058281\n",
      "75%        0.081832\n",
      "max        0.414394\n",
      "Name: Volatility, dtype: float64\n"
     ]
    }
   ],
   "source": [
    "print(\"Return descriptive statistics\")\n",
    "print(df2[\"Return\"].describe())\n",
    "print(\"\")\n",
    "print(\"================================================\")\n",
    "print(\"\")\n",
    "print(\"Volatility descriptive statistics\")\n",
    "print(df2[\"Volatility\"].describe())"
   ]
  },
  {
   "cell_type": "code",
   "execution_count": 7,
   "metadata": {},
   "outputs": [
    {
     "name": "stdout",
     "output_type": "stream",
     "text": [
      "Portfolio size 1\n",
      "0.414\n",
      "Portfolio size 50\n",
      "0.059\n",
      "Portfolio size 100\n",
      "0.042\n"
     ]
    }
   ],
   "source": [
    "print(\"Portfolio size 1\")\n",
    "print(round(df2[\"Volatility\"].iloc[0], 3))\n",
    "print(\"Portfolio size 50\")\n",
    "print(round(df2[\"Volatility\"].iloc[49],3))\n",
    "print(\"Portfolio size 100\")\n",
    "print(round(df2[\"Volatility\"].iloc[99],3))\n"
   ]
  },
  {
   "cell_type": "markdown",
   "metadata": {},
   "source": [
    "As it can be seen from the graph, the volatility in the portfolios decreases as we add more cryptos into our portfolio. This can also clearly see from the descriptive statistics, where our minimum volatility is 0.041 for our portfolio size 100 and 0.414 for portfolio size 1. Keep in mind these are randomly selected portfolios out of 2071 different cryptos. This does not take into consideration market cap, liquidity of each crypto and more factors that may contribute to its overall attractiveness to a portfolio manager, but from a pure data analytical point of view it greatly reduces the volatility of the portfolio.\n",
    "\n",
    "## Part 2\n",
    "\n",
    "### 2"
   ]
  },
  {
   "cell_type": "code",
   "execution_count": 59,
   "metadata": {},
   "outputs": [],
   "source": [
    "raw = pd.read_csv('tr_eikon_eod_data.csv',\n",
    "                  index_col=0, parse_dates=True)\n",
    "data_cmc = pd.read_csv('crypto-markets.csv')\n",
    "data_cmc['date'] = pd.to_datetime(data_cmc['date'])\n",
    "data_cmc.index = pd.DatetimeIndex(data_cmc['date'])\n",
    "symbol = 'bitcoin'\n",
    "data_symbol = pd.DataFrame(data_cmc['close'].loc[data_cmc['slug'] == symbol])\n",
    "raw['bitcoin'] = data_symbol\n",
    "\n",
    "data = (\n",
    "    pd.DataFrame(raw[symbol])\n",
    "    .dropna()\n",
    ")"
   ]
  },
  {
   "cell_type": "code",
   "execution_count": 60,
   "metadata": {},
   "outputs": [],
   "source": [
    "sma1 = range(1, 64, 1)  \n",
    "sma2 = range(126, 379, 21) \n",
    "data[\"Returns\"] = data[\"bitcoin\"].pct_change()\n",
    "results = pd.DataFrame()\n",
    "plot_paths = pd.DataFrame()\n",
    "for SMA1, SMA2 in product(sma1, sma2):  \n",
    "    data = pd.DataFrame(raw[symbol])\n",
    "    data.dropna(inplace=True)\n",
    "    data['Returns'] = np.log(data[symbol] / data[symbol].shift(1))\n",
    "    data['SMA1'] = data[symbol].rolling(SMA1).mean()\n",
    "    data['SMA2'] = data[symbol].rolling(SMA2).mean()\n",
    "    data.dropna(inplace=True)\n",
    "    data['Position'] = np.where(data['SMA1'] > data['SMA2'], 1, -1)\n",
    "    data['Strategy'] = data['Position'].shift(1) * data['Returns']\n",
    "    data.dropna(inplace=True)\n",
    "    perf = np.exp(data[['Returns', 'Strategy']].sum())\n",
    "    \n",
    "    ret_an = (data[['Returns', 'Strategy']].mean()) * 252\n",
    "    vol_an = np.sqrt(data[['Returns', 'Strategy']].var() * 252)\n",
    "    sr_an = ret_an / vol_an\n",
    "    bench = data[\"Strategy\"].sub(data[\"Returns\"], axis = 0)\n",
    "    upper = bench.mean()\n",
    "    lower = bench.std()   \n",
    "    inforatio = upper / lower\n",
    "    years = len(data) / 252\n",
    "     \n",
    "    results = results.append(pd.DataFrame(\n",
    "                {'SMA1': SMA1, 'SMA2': SMA2,\n",
    "                 'MARKET': perf['Returns'],\n",
    "                 'STRATEGY': perf['Strategy'],\n",
    "                 'OUT': perf['Strategy'] - perf['Returns'],\n",
    "                 'RET_STRATEGY' : ret_an['Strategy'],\n",
    "                 'RET_RETURNS' : ret_an['Returns'],\n",
    "                 'VOLA_STRATEGY' : vol_an['Strategy'],\n",
    "                 'VOLA_RETURNS' : vol_an['Returns'],\n",
    "                 'SR_STRATEGY' : sr_an['Strategy'],\n",
    "                 'InfoRatio': inforatio,\n",
    "                 'SR_RETURNS' : sr_an['Returns'],\n",
    "                 't-stat_STRATEGY' : sr_an['Strategy'] * np.sqrt(years),\n",
    "                 't-stat_RETURNS' : sr_an['Returns'] * np.sqrt(years)},\n",
    "                 index=[0]), ignore_index=True)"
   ]
  },
  {
   "cell_type": "markdown",
   "metadata": {},
   "source": [
    "### Maximize Sharpe Ratio"
   ]
  },
  {
   "cell_type": "code",
   "execution_count": 61,
   "metadata": {},
   "outputs": [
    {
     "data": {
      "text/html": [
       "<div>\n",
       "<style scoped>\n",
       "    .dataframe tbody tr th:only-of-type {\n",
       "        vertical-align: middle;\n",
       "    }\n",
       "\n",
       "    .dataframe tbody tr th {\n",
       "        vertical-align: top;\n",
       "    }\n",
       "\n",
       "    .dataframe thead th {\n",
       "        text-align: right;\n",
       "    }\n",
       "</style>\n",
       "<table border=\"1\" class=\"dataframe\">\n",
       "  <thead>\n",
       "    <tr style=\"text-align: right;\">\n",
       "      <th></th>\n",
       "      <th>SMA1</th>\n",
       "      <th>SMA2</th>\n",
       "      <th>MARKET</th>\n",
       "      <th>STRATEGY</th>\n",
       "      <th>OUT</th>\n",
       "      <th>RET_STRATEGY</th>\n",
       "      <th>RET_RETURNS</th>\n",
       "      <th>VOLA_STRATEGY</th>\n",
       "      <th>VOLA_RETURNS</th>\n",
       "      <th>SR_STRATEGY</th>\n",
       "      <th>InfoRatio</th>\n",
       "      <th>SR_RETURNS</th>\n",
       "      <th>t-stat_STRATEGY</th>\n",
       "      <th>t-stat_RETURNS</th>\n",
       "    </tr>\n",
       "  </thead>\n",
       "  <tbody>\n",
       "    <tr>\n",
       "      <td>19</td>\n",
       "      <td>2</td>\n",
       "      <td>252</td>\n",
       "      <td>12.060552</td>\n",
       "      <td>61.532452</td>\n",
       "      <td>49.4719</td>\n",
       "      <td>0.945474</td>\n",
       "      <td>0.571462</td>\n",
       "      <td>0.706616</td>\n",
       "      <td>0.708209</td>\n",
       "      <td>1.33803</td>\n",
       "      <td>0.033504</td>\n",
       "      <td>0.806911</td>\n",
       "      <td>2.792974</td>\n",
       "      <td>1.684328</td>\n",
       "    </tr>\n",
       "  </tbody>\n",
       "</table>\n",
       "</div>"
      ],
      "text/plain": [
       "    SMA1  SMA2     MARKET   STRATEGY      OUT  RET_STRATEGY  RET_RETURNS  \\\n",
       "19     2   252  12.060552  61.532452  49.4719      0.945474     0.571462   \n",
       "\n",
       "    VOLA_STRATEGY  VOLA_RETURNS  SR_STRATEGY  InfoRatio  SR_RETURNS  \\\n",
       "19       0.706616      0.708209      1.33803   0.033504    0.806911   \n",
       "\n",
       "    t-stat_STRATEGY  t-stat_RETURNS  \n",
       "19         2.792974        1.684328  "
      ]
     },
     "execution_count": 61,
     "metadata": {},
     "output_type": "execute_result"
    }
   ],
   "source": [
    "results.sort_values('SR_STRATEGY', ascending=False).head(1)"
   ]
  },
  {
   "cell_type": "markdown",
   "metadata": {},
   "source": [
    "### Maximize Information Ratio"
   ]
  },
  {
   "cell_type": "code",
   "execution_count": 62,
   "metadata": {},
   "outputs": [
    {
     "data": {
      "text/html": [
       "<div>\n",
       "<style scoped>\n",
       "    .dataframe tbody tr th:only-of-type {\n",
       "        vertical-align: middle;\n",
       "    }\n",
       "\n",
       "    .dataframe tbody tr th {\n",
       "        vertical-align: top;\n",
       "    }\n",
       "\n",
       "    .dataframe thead th {\n",
       "        text-align: right;\n",
       "    }\n",
       "</style>\n",
       "<table border=\"1\" class=\"dataframe\">\n",
       "  <thead>\n",
       "    <tr style=\"text-align: right;\">\n",
       "      <th></th>\n",
       "      <th>SMA1</th>\n",
       "      <th>SMA2</th>\n",
       "      <th>MARKET</th>\n",
       "      <th>STRATEGY</th>\n",
       "      <th>OUT</th>\n",
       "      <th>RET_STRATEGY</th>\n",
       "      <th>RET_RETURNS</th>\n",
       "      <th>VOLA_STRATEGY</th>\n",
       "      <th>VOLA_RETURNS</th>\n",
       "      <th>SR_STRATEGY</th>\n",
       "      <th>InfoRatio</th>\n",
       "      <th>SR_RETURNS</th>\n",
       "      <th>t-stat_STRATEGY</th>\n",
       "      <th>t-stat_RETURNS</th>\n",
       "    </tr>\n",
       "  </thead>\n",
       "  <tbody>\n",
       "    <tr>\n",
       "      <td>797</td>\n",
       "      <td>62</td>\n",
       "      <td>210</td>\n",
       "      <td>9.393344</td>\n",
       "      <td>57.223625</td>\n",
       "      <td>47.830281</td>\n",
       "      <td>0.894593</td>\n",
       "      <td>0.495158</td>\n",
       "      <td>0.727178</td>\n",
       "      <td>0.728693</td>\n",
       "      <td>1.230225</td>\n",
       "      <td>0.03528</td>\n",
       "      <td>0.679516</td>\n",
       "      <td>2.616595</td>\n",
       "      <td>1.445279</td>\n",
       "    </tr>\n",
       "  </tbody>\n",
       "</table>\n",
       "</div>"
      ],
      "text/plain": [
       "     SMA1  SMA2    MARKET   STRATEGY        OUT  RET_STRATEGY  RET_RETURNS  \\\n",
       "797    62   210  9.393344  57.223625  47.830281      0.894593     0.495158   \n",
       "\n",
       "     VOLA_STRATEGY  VOLA_RETURNS  SR_STRATEGY  InfoRatio  SR_RETURNS  \\\n",
       "797       0.727178      0.728693     1.230225    0.03528    0.679516   \n",
       "\n",
       "     t-stat_STRATEGY  t-stat_RETURNS  \n",
       "797         2.616595        1.445279  "
      ]
     },
     "execution_count": 62,
     "metadata": {},
     "output_type": "execute_result"
    }
   ],
   "source": [
    "results.sort_values('InfoRatio', ascending=False).head(1)"
   ]
  },
  {
   "cell_type": "code",
   "execution_count": null,
   "metadata": {},
   "outputs": [],
   "source": []
  }
 ],
 "metadata": {
  "kernelspec": {
   "display_name": "Python 3",
   "language": "python",
   "name": "python3"
  },
  "language_info": {
   "codemirror_mode": {
    "name": "ipython",
    "version": 3
   },
   "file_extension": ".py",
   "mimetype": "text/x-python",
   "name": "python",
   "nbconvert_exporter": "python",
   "pygments_lexer": "ipython3",
   "version": "3.7.4"
  },
  "toc": {
   "base_numbering": 1,
   "nav_menu": {},
   "number_sections": true,
   "sideBar": true,
   "skip_h1_title": false,
   "title_cell": "Table of Contents",
   "title_sidebar": "Contents",
   "toc_cell": false,
   "toc_position": {},
   "toc_section_display": true,
   "toc_window_display": false
  }
 },
 "nbformat": 4,
 "nbformat_minor": 2
}
